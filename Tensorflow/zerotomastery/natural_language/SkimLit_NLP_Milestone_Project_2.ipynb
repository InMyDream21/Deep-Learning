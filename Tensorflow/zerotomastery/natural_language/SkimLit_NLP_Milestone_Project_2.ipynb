{
  "nbformat": 4,
  "nbformat_minor": 0,
  "metadata": {
    "colab": {
      "provenance": [],
      "collapsed_sections": [],
      "authorship_tag": "ABX9TyMptWre50r72wcXb5OJlHlL",
      "include_colab_link": true
    },
    "kernelspec": {
      "name": "python3",
      "display_name": "Python 3"
    },
    "language_info": {
      "name": "python"
    },
    "accelerator": "GPU"
  },
  "cells": [
    {
      "cell_type": "markdown",
      "metadata": {
        "id": "view-in-github",
        "colab_type": "text"
      },
      "source": [
        "<a href=\"https://colab.research.google.com/github/InMyDream21/Deep-Learning/blob/main/Tensorflow/zerotomastery/natural_language/SkimLit_NLP_Milestone_Project_2.ipynb\" target=\"_parent\"><img src=\"https://colab.research.google.com/assets/colab-badge.svg\" alt=\"Open In Colab\"/></a>"
      ]
    },
    {
      "cell_type": "markdown",
      "source": [
        "# Milestone Project 2: SkimLit\n",
        "\n",
        "The purpose of this notebook is to build an NLP model to make reading medical abstracts easier."
      ],
      "metadata": {
        "id": "cWDAsQxvhANJ"
      }
    },
    {
      "cell_type": "markdown",
      "source": [
        "## Check for GPU"
      ],
      "metadata": {
        "id": "hCBN-wdlhIrQ"
      }
    },
    {
      "cell_type": "code",
      "source": [
        "!nvidia-smi -L"
      ],
      "metadata": {
        "colab": {
          "base_uri": "https://localhost:8080/"
        },
        "id": "Z6bZS2h4hutA",
        "outputId": "43d636ba-3643-4f80-e0c2-466dbe7152e9"
      },
      "execution_count": 1,
      "outputs": [
        {
          "output_type": "stream",
          "name": "stdout",
          "text": [
            "GPU 0: Tesla T4 (UUID: GPU-21eae000-c1c2-b6c2-8a98-7fe744c4ee57)\n"
          ]
        }
      ]
    },
    {
      "cell_type": "markdown",
      "source": [
        "## Get data\n",
        "\n",
        "Since we'll be replicating the paper (PubMed 200k RCT), lets download the dataset they used.\n",
        "\n",
        "We can do so from the authors GitHub: https://github.com/Franck-Dernoncourt/pubmed-rct"
      ],
      "metadata": {
        "id": "yB9xDrN6h01d"
      }
    },
    {
      "cell_type": "code",
      "source": [
        "!git clone https://github.com/Franck-Dernoncourt/pubmed-rct\n",
        "!ls pubmed-rct"
      ],
      "metadata": {
        "colab": {
          "base_uri": "https://localhost:8080/"
        },
        "id": "vTFVLkE3iRZM",
        "outputId": "116606b3-0fc0-4528-aa2b-856bc4d8a20e"
      },
      "execution_count": 2,
      "outputs": [
        {
          "output_type": "stream",
          "name": "stdout",
          "text": [
            "Cloning into 'pubmed-rct'...\n",
            "remote: Enumerating objects: 33, done.\u001b[K\n",
            "remote: Counting objects: 100% (8/8), done.\u001b[K\n",
            "remote: Compressing objects: 100% (3/3), done.\u001b[K\n",
            "remote: Total 33 (delta 5), reused 5 (delta 5), pack-reused 25\u001b[K\n",
            "Unpacking objects: 100% (33/33), done.\n",
            "Checking out files: 100% (13/13), done.\n",
            "PubMed_200k_RCT\n",
            "PubMed_200k_RCT_numbers_replaced_with_at_sign\n",
            "PubMed_20k_RCT\n",
            "PubMed_20k_RCT_numbers_replaced_with_at_sign\n",
            "README.md\n"
          ]
        }
      ]
    },
    {
      "cell_type": "code",
      "source": [
        "# Check what files are in the PubMed_20K dataset\n",
        "!ls pubmed-rct/PubMed_20k_RCT_numbers_replaced_with_at_sign/"
      ],
      "metadata": {
        "colab": {
          "base_uri": "https://localhost:8080/"
        },
        "id": "pI0VGie6iX0x",
        "outputId": "d50793ff-0d59-4346-a872-c4dd7e9acddb"
      },
      "execution_count": 3,
      "outputs": [
        {
          "output_type": "stream",
          "name": "stdout",
          "text": [
            "dev.txt  test.txt  train.txt\n"
          ]
        }
      ]
    },
    {
      "cell_type": "code",
      "source": [
        "# Start our experiments using the 20k dataset with numbers replaces by \"@\" sign\n",
        "data_dir = \"/content/pubmed-rct/PubMed_20k_RCT_numbers_replaced_with_at_sign/\""
      ],
      "metadata": {
        "id": "_Ru9f_2Ti_-J"
      },
      "execution_count": 4,
      "outputs": []
    },
    {
      "cell_type": "code",
      "source": [
        "# Check all of the filenames in the target diectory\n",
        "import os\n",
        "filename = [data_dir + filename for filename in os.listdir(data_dir)]\n",
        "filename"
      ],
      "metadata": {
        "colab": {
          "base_uri": "https://localhost:8080/"
        },
        "id": "ZyzwFHLDkDlL",
        "outputId": "18e6dc97-8c32-41a3-a98b-f88f41f91975"
      },
      "execution_count": 5,
      "outputs": [
        {
          "output_type": "execute_result",
          "data": {
            "text/plain": [
              "['/content/pubmed-rct/PubMed_20k_RCT_numbers_replaced_with_at_sign/test.txt',\n",
              " '/content/pubmed-rct/PubMed_20k_RCT_numbers_replaced_with_at_sign/dev.txt',\n",
              " '/content/pubmed-rct/PubMed_20k_RCT_numbers_replaced_with_at_sign/train.txt']"
            ]
          },
          "metadata": {},
          "execution_count": 5
        }
      ]
    },
    {
      "cell_type": "markdown",
      "source": [
        "## Preprocess data\n",
        "\n",
        "Now we've got some text data, it's time to become one with it.\n",
        "\n",
        "And one of the best ways to become one with the data is to...\n",
        "\n",
        "> Visualize, Visualize, visualize\n",
        "\n",
        "So with that in mind, lets write a function to read in all of the lines of a target text file."
      ],
      "metadata": {
        "id": "4LoY6g2LkJSn"
      }
    },
    {
      "cell_type": "code",
      "source": [
        "# Create function to read the lines of a document\n",
        "def get_line(filename):\n",
        "  \"\"\"\n",
        "  Reads filename (a text file name) and returns the lines of text as a list.\n",
        "\n",
        "  Args: \n",
        "    filename: a string containing the target filepath.\n",
        "\n",
        "  Returns: \n",
        "    A list of strings with one string per line from the target filename.\n",
        "  \"\"\"\n",
        "  with open(filename, \"r\") as f:\n",
        "    return f.readlines()"
      ],
      "metadata": {
        "id": "emsf5h68k1eN"
      },
      "execution_count": 6,
      "outputs": []
    },
    {
      "cell_type": "code",
      "source": [
        "# Let's read in the training lines\n",
        "train_lines = get_line(data_dir + \"train.txt\") # Read the lines within the training file\n",
        "train_lines[:20]"
      ],
      "metadata": {
        "id": "rFTMn7EZlfHA",
        "colab": {
          "base_uri": "https://localhost:8080/"
        },
        "outputId": "48d17707-e62e-4074-ee15-9a1be32d6831"
      },
      "execution_count": 7,
      "outputs": [
        {
          "output_type": "execute_result",
          "data": {
            "text/plain": [
              "['###24293578\\n',\n",
              " 'OBJECTIVE\\tTo investigate the efficacy of @ weeks of daily low-dose oral prednisolone in improving pain , mobility , and systemic low-grade inflammation in the short term and whether the effect would be sustained at @ weeks in older adults with moderate to severe knee osteoarthritis ( OA ) .\\n',\n",
              " 'METHODS\\tA total of @ patients with primary knee OA were randomized @:@ ; @ received @ mg/day of prednisolone and @ received placebo for @ weeks .\\n',\n",
              " 'METHODS\\tOutcome measures included pain reduction and improvement in function scores and systemic inflammation markers .\\n',\n",
              " 'METHODS\\tPain was assessed using the visual analog pain scale ( @-@ mm ) .\\n',\n",
              " 'METHODS\\tSecondary outcome measures included the Western Ontario and McMaster Universities Osteoarthritis Index scores , patient global assessment ( PGA ) of the severity of knee OA , and @-min walk distance ( @MWD ) .\\n',\n",
              " 'METHODS\\tSerum levels of interleukin @ ( IL-@ ) , IL-@ , tumor necrosis factor ( TNF ) - , and high-sensitivity C-reactive protein ( hsCRP ) were measured .\\n',\n",
              " 'RESULTS\\tThere was a clinically relevant reduction in the intervention group compared to the placebo group for knee pain , physical function , PGA , and @MWD at @ weeks .\\n',\n",
              " 'RESULTS\\tThe mean difference between treatment arms ( @ % CI ) was @ ( @-@ @ ) , p < @ ; @ ( @-@ @ ) , p < @ ; @ ( @-@ @ ) , p < @ ; and @ ( @-@ @ ) , p < @ , respectively .\\n',\n",
              " 'RESULTS\\tFurther , there was a clinically relevant reduction in the serum levels of IL-@ , IL-@ , TNF - , and hsCRP at @ weeks in the intervention group when compared to the placebo group .\\n',\n",
              " 'RESULTS\\tThese differences remained significant at @ weeks .\\n',\n",
              " 'RESULTS\\tThe Outcome Measures in Rheumatology Clinical Trials-Osteoarthritis Research Society International responder rate was @ % in the intervention group and @ % in the placebo group ( p < @ ) .\\n',\n",
              " 'CONCLUSIONS\\tLow-dose oral prednisolone had both a short-term and a longer sustained effect resulting in less knee pain , better physical function , and attenuation of systemic inflammation in older patients with knee OA ( ClinicalTrials.gov identifier NCT@ ) .\\n',\n",
              " '\\n',\n",
              " '###24854809\\n',\n",
              " 'BACKGROUND\\tEmotional eating is associated with overeating and the development of obesity .\\n',\n",
              " 'BACKGROUND\\tYet , empirical evidence for individual ( trait ) differences in emotional eating and cognitive mechanisms that contribute to eating during sad mood remain equivocal .\\n',\n",
              " 'OBJECTIVE\\tThe aim of this study was to test if attention bias for food moderates the effect of self-reported emotional eating during sad mood ( vs neutral mood ) on actual food intake .\\n',\n",
              " 'OBJECTIVE\\tIt was expected that emotional eating is predictive of elevated attention for food and higher food intake after an experimentally induced sad mood and that attentional maintenance on food predicts food intake during a sad versus a neutral mood .\\n',\n",
              " 'METHODS\\tParticipants ( N = @ ) were randomly assigned to one of the two experimental mood induction conditions ( sad/neutral ) .\\n']"
            ]
          },
          "metadata": {},
          "execution_count": 7
        }
      ]
    },
    {
      "cell_type": "code",
      "source": [
        "len(train_lines)"
      ],
      "metadata": {
        "id": "sD1G15Mhlsg_",
        "colab": {
          "base_uri": "https://localhost:8080/"
        },
        "outputId": "5666b406-b79e-4d55-bd9d-7fc908cbdf76"
      },
      "execution_count": 8,
      "outputs": [
        {
          "output_type": "execute_result",
          "data": {
            "text/plain": [
              "210040"
            ]
          },
          "metadata": {},
          "execution_count": 8
        }
      ]
    },
    {
      "cell_type": "markdown",
      "source": [
        "Lets think about how we want our data to look\n",
        "\n",
        "How I think our data would be best represented...\n",
        "\n",
        "```\n",
        "[{'line_number': 0,\n",
        "   'target': BACKGROUND,\n",
        "   'text': \"Emotional eating is associated with overeating and the development of obesity .\\n\"\n",
        "   'total_lines': 11},\n",
        "   ...]\n",
        "```"
      ],
      "metadata": {
        "id": "_YFIYdl8mCO1"
      }
    },
    {
      "cell_type": "code",
      "source": [
        "def preprocess_text_with_line_numbers(filename):\n",
        "  \"\"\"\n",
        "  Returns a list of dictionaries of abstact line data.\n",
        "\n",
        "  Takes in filename, reads it contents and sorts through each line,\n",
        "  extracting things like the target label, the text of the sentence,\n",
        "  how many sentences are in teh current abstract and what sentence \n",
        "  number the target line is.\n",
        "  \"\"\"\n",
        "  input_lines = get_line(filename) # Get all lines from filename\n",
        "  abstract_lines = \"\" # CReate an empty abstract\n",
        "  abstract_samples = [] # Create an empty list of abstracts\n",
        "\n",
        "  # Loop through each line in the target file\n",
        "\n",
        "  for line in input_lines:\n",
        "    if line.startswith(\"###\"): # Check to see if the line is an ID line\n",
        "      abstract_id = line\n",
        "      abstract_lines = \"\" # Reset the abstract string if the line is an ID line\n",
        "    elif line.isspace(): # Check to see if line is a new line\n",
        "      abstract_line_split = abstract_lines.splitlines() # SPlit abstract into separate lines\n",
        "\n",
        "      # Iterate through each line in a single abstract and count them at the same time\n",
        "      for abstract_line_number, abstract_line in enumerate(abstract_line_split):\n",
        "        line_data = {} # Create an empty dictionary for each line\n",
        "        target_text_split = abstract_line.split(\"\\t\") # Split target label from text\n",
        "        line_data[\"target\"] = target_text_split[0] # Get target label\n",
        "        line_data[\"text\"] = target_text_split[1].lower() # Get target text and lower it\n",
        "        line_data[\"line_number\"] = abstract_line_number # What number line does the line appear in the abstract\n",
        "        line_data[\"total_lines\"] = len(abstract_line_split) - 1 # How many total lines are there in the target abstract? (start from 0)\n",
        "        abstract_samples.append(line_data) # add line to abstract samples list\n",
        "    \n",
        "    else: # If the above condition aren't fulfilled, the line contains a labelled sentence\n",
        "      abstract_lines += line\n",
        "\n",
        "  return abstract_samples"
      ],
      "metadata": {
        "id": "ZTMhafiKnCKR"
      },
      "execution_count": 9,
      "outputs": []
    },
    {
      "cell_type": "code",
      "source": [
        "# Get data from file and preprocess it\n",
        "%%time\n",
        "train_samples = preprocess_text_with_line_numbers(data_dir + \"train.txt\")\n",
        "val_samples = preprocess_text_with_line_numbers(data_dir + \"dev.txt\")\n",
        "test_samples = preprocess_text_with_line_numbers(data_dir + \"test.txt\")\n",
        "print(len(train_samples), len(val_samples), len(test_samples))"
      ],
      "metadata": {
        "id": "oBbNBmDcuZJc",
        "colab": {
          "base_uri": "https://localhost:8080/"
        },
        "outputId": "9333d72b-7043-4a3a-d8b5-75a84870e57b"
      },
      "execution_count": 10,
      "outputs": [
        {
          "output_type": "stream",
          "name": "stdout",
          "text": [
            "180040 30212 30135\n",
            "CPU times: user 438 ms, sys: 93.8 ms, total: 532 ms\n",
            "Wall time: 533 ms\n"
          ]
        }
      ]
    },
    {
      "cell_type": "markdown",
      "source": [
        "Now that our data is in the format of a list of dictionaries, how about we turn it into a DataFrame to further visualize it."
      ],
      "metadata": {
        "id": "G2JgrrAPv8x0"
      }
    },
    {
      "cell_type": "code",
      "source": [
        "import pandas as pd\n",
        "train_df = pd.DataFrame(train_samples)\n",
        "val_df = pd.DataFrame(val_samples)\n",
        "test_df = pd.DataFrame(test_samples)\n",
        "train_df.head(14)"
      ],
      "metadata": {
        "id": "qUhXyhONvD77",
        "colab": {
          "base_uri": "https://localhost:8080/",
          "height": 488
        },
        "outputId": "73f3471d-f943-4f2c-a7eb-c6a841cfb77c"
      },
      "execution_count": 11,
      "outputs": [
        {
          "output_type": "execute_result",
          "data": {
            "text/plain": [
              "         target                                               text  \\\n",
              "0     OBJECTIVE  to investigate the efficacy of @ weeks of dail...   \n",
              "1       METHODS  a total of @ patients with primary knee oa wer...   \n",
              "2       METHODS  outcome measures included pain reduction and i...   \n",
              "3       METHODS  pain was assessed using the visual analog pain...   \n",
              "4       METHODS  secondary outcome measures included the wester...   \n",
              "5       METHODS  serum levels of interleukin @ ( il-@ ) , il-@ ...   \n",
              "6       RESULTS  there was a clinically relevant reduction in t...   \n",
              "7       RESULTS  the mean difference between treatment arms ( @...   \n",
              "8       RESULTS  further , there was a clinically relevant redu...   \n",
              "9       RESULTS  these differences remained significant at @ we...   \n",
              "10      RESULTS  the outcome measures in rheumatology clinical ...   \n",
              "11  CONCLUSIONS  low-dose oral prednisolone had both a short-te...   \n",
              "12   BACKGROUND  emotional eating is associated with overeating...   \n",
              "13   BACKGROUND  yet , empirical evidence for individual ( trai...   \n",
              "\n",
              "    line_number  total_lines  \n",
              "0             0           11  \n",
              "1             1           11  \n",
              "2             2           11  \n",
              "3             3           11  \n",
              "4             4           11  \n",
              "5             5           11  \n",
              "6             6           11  \n",
              "7             7           11  \n",
              "8             8           11  \n",
              "9             9           11  \n",
              "10           10           11  \n",
              "11           11           11  \n",
              "12            0           10  \n",
              "13            1           10  "
            ],
            "text/html": [
              "\n",
              "  <div id=\"df-79057c1f-8169-44bc-a98b-3efbfcf79ce3\">\n",
              "    <div class=\"colab-df-container\">\n",
              "      <div>\n",
              "<style scoped>\n",
              "    .dataframe tbody tr th:only-of-type {\n",
              "        vertical-align: middle;\n",
              "    }\n",
              "\n",
              "    .dataframe tbody tr th {\n",
              "        vertical-align: top;\n",
              "    }\n",
              "\n",
              "    .dataframe thead th {\n",
              "        text-align: right;\n",
              "    }\n",
              "</style>\n",
              "<table border=\"1\" class=\"dataframe\">\n",
              "  <thead>\n",
              "    <tr style=\"text-align: right;\">\n",
              "      <th></th>\n",
              "      <th>target</th>\n",
              "      <th>text</th>\n",
              "      <th>line_number</th>\n",
              "      <th>total_lines</th>\n",
              "    </tr>\n",
              "  </thead>\n",
              "  <tbody>\n",
              "    <tr>\n",
              "      <th>0</th>\n",
              "      <td>OBJECTIVE</td>\n",
              "      <td>to investigate the efficacy of @ weeks of dail...</td>\n",
              "      <td>0</td>\n",
              "      <td>11</td>\n",
              "    </tr>\n",
              "    <tr>\n",
              "      <th>1</th>\n",
              "      <td>METHODS</td>\n",
              "      <td>a total of @ patients with primary knee oa wer...</td>\n",
              "      <td>1</td>\n",
              "      <td>11</td>\n",
              "    </tr>\n",
              "    <tr>\n",
              "      <th>2</th>\n",
              "      <td>METHODS</td>\n",
              "      <td>outcome measures included pain reduction and i...</td>\n",
              "      <td>2</td>\n",
              "      <td>11</td>\n",
              "    </tr>\n",
              "    <tr>\n",
              "      <th>3</th>\n",
              "      <td>METHODS</td>\n",
              "      <td>pain was assessed using the visual analog pain...</td>\n",
              "      <td>3</td>\n",
              "      <td>11</td>\n",
              "    </tr>\n",
              "    <tr>\n",
              "      <th>4</th>\n",
              "      <td>METHODS</td>\n",
              "      <td>secondary outcome measures included the wester...</td>\n",
              "      <td>4</td>\n",
              "      <td>11</td>\n",
              "    </tr>\n",
              "    <tr>\n",
              "      <th>5</th>\n",
              "      <td>METHODS</td>\n",
              "      <td>serum levels of interleukin @ ( il-@ ) , il-@ ...</td>\n",
              "      <td>5</td>\n",
              "      <td>11</td>\n",
              "    </tr>\n",
              "    <tr>\n",
              "      <th>6</th>\n",
              "      <td>RESULTS</td>\n",
              "      <td>there was a clinically relevant reduction in t...</td>\n",
              "      <td>6</td>\n",
              "      <td>11</td>\n",
              "    </tr>\n",
              "    <tr>\n",
              "      <th>7</th>\n",
              "      <td>RESULTS</td>\n",
              "      <td>the mean difference between treatment arms ( @...</td>\n",
              "      <td>7</td>\n",
              "      <td>11</td>\n",
              "    </tr>\n",
              "    <tr>\n",
              "      <th>8</th>\n",
              "      <td>RESULTS</td>\n",
              "      <td>further , there was a clinically relevant redu...</td>\n",
              "      <td>8</td>\n",
              "      <td>11</td>\n",
              "    </tr>\n",
              "    <tr>\n",
              "      <th>9</th>\n",
              "      <td>RESULTS</td>\n",
              "      <td>these differences remained significant at @ we...</td>\n",
              "      <td>9</td>\n",
              "      <td>11</td>\n",
              "    </tr>\n",
              "    <tr>\n",
              "      <th>10</th>\n",
              "      <td>RESULTS</td>\n",
              "      <td>the outcome measures in rheumatology clinical ...</td>\n",
              "      <td>10</td>\n",
              "      <td>11</td>\n",
              "    </tr>\n",
              "    <tr>\n",
              "      <th>11</th>\n",
              "      <td>CONCLUSIONS</td>\n",
              "      <td>low-dose oral prednisolone had both a short-te...</td>\n",
              "      <td>11</td>\n",
              "      <td>11</td>\n",
              "    </tr>\n",
              "    <tr>\n",
              "      <th>12</th>\n",
              "      <td>BACKGROUND</td>\n",
              "      <td>emotional eating is associated with overeating...</td>\n",
              "      <td>0</td>\n",
              "      <td>10</td>\n",
              "    </tr>\n",
              "    <tr>\n",
              "      <th>13</th>\n",
              "      <td>BACKGROUND</td>\n",
              "      <td>yet , empirical evidence for individual ( trai...</td>\n",
              "      <td>1</td>\n",
              "      <td>10</td>\n",
              "    </tr>\n",
              "  </tbody>\n",
              "</table>\n",
              "</div>\n",
              "      <button class=\"colab-df-convert\" onclick=\"convertToInteractive('df-79057c1f-8169-44bc-a98b-3efbfcf79ce3')\"\n",
              "              title=\"Convert this dataframe to an interactive table.\"\n",
              "              style=\"display:none;\">\n",
              "        \n",
              "  <svg xmlns=\"http://www.w3.org/2000/svg\" height=\"24px\"viewBox=\"0 0 24 24\"\n",
              "       width=\"24px\">\n",
              "    <path d=\"M0 0h24v24H0V0z\" fill=\"none\"/>\n",
              "    <path d=\"M18.56 5.44l.94 2.06.94-2.06 2.06-.94-2.06-.94-.94-2.06-.94 2.06-2.06.94zm-11 1L8.5 8.5l.94-2.06 2.06-.94-2.06-.94L8.5 2.5l-.94 2.06-2.06.94zm10 10l.94 2.06.94-2.06 2.06-.94-2.06-.94-.94-2.06-.94 2.06-2.06.94z\"/><path d=\"M17.41 7.96l-1.37-1.37c-.4-.4-.92-.59-1.43-.59-.52 0-1.04.2-1.43.59L10.3 9.45l-7.72 7.72c-.78.78-.78 2.05 0 2.83L4 21.41c.39.39.9.59 1.41.59.51 0 1.02-.2 1.41-.59l7.78-7.78 2.81-2.81c.8-.78.8-2.07 0-2.86zM5.41 20L4 18.59l7.72-7.72 1.47 1.35L5.41 20z\"/>\n",
              "  </svg>\n",
              "      </button>\n",
              "      \n",
              "  <style>\n",
              "    .colab-df-container {\n",
              "      display:flex;\n",
              "      flex-wrap:wrap;\n",
              "      gap: 12px;\n",
              "    }\n",
              "\n",
              "    .colab-df-convert {\n",
              "      background-color: #E8F0FE;\n",
              "      border: none;\n",
              "      border-radius: 50%;\n",
              "      cursor: pointer;\n",
              "      display: none;\n",
              "      fill: #1967D2;\n",
              "      height: 32px;\n",
              "      padding: 0 0 0 0;\n",
              "      width: 32px;\n",
              "    }\n",
              "\n",
              "    .colab-df-convert:hover {\n",
              "      background-color: #E2EBFA;\n",
              "      box-shadow: 0px 1px 2px rgba(60, 64, 67, 0.3), 0px 1px 3px 1px rgba(60, 64, 67, 0.15);\n",
              "      fill: #174EA6;\n",
              "    }\n",
              "\n",
              "    [theme=dark] .colab-df-convert {\n",
              "      background-color: #3B4455;\n",
              "      fill: #D2E3FC;\n",
              "    }\n",
              "\n",
              "    [theme=dark] .colab-df-convert:hover {\n",
              "      background-color: #434B5C;\n",
              "      box-shadow: 0px 1px 3px 1px rgba(0, 0, 0, 0.15);\n",
              "      filter: drop-shadow(0px 1px 2px rgba(0, 0, 0, 0.3));\n",
              "      fill: #FFFFFF;\n",
              "    }\n",
              "  </style>\n",
              "\n",
              "      <script>\n",
              "        const buttonEl =\n",
              "          document.querySelector('#df-79057c1f-8169-44bc-a98b-3efbfcf79ce3 button.colab-df-convert');\n",
              "        buttonEl.style.display =\n",
              "          google.colab.kernel.accessAllowed ? 'block' : 'none';\n",
              "\n",
              "        async function convertToInteractive(key) {\n",
              "          const element = document.querySelector('#df-79057c1f-8169-44bc-a98b-3efbfcf79ce3');\n",
              "          const dataTable =\n",
              "            await google.colab.kernel.invokeFunction('convertToInteractive',\n",
              "                                                     [key], {});\n",
              "          if (!dataTable) return;\n",
              "\n",
              "          const docLinkHtml = 'Like what you see? Visit the ' +\n",
              "            '<a target=\"_blank\" href=https://colab.research.google.com/notebooks/data_table.ipynb>data table notebook</a>'\n",
              "            + ' to learn more about interactive tables.';\n",
              "          element.innerHTML = '';\n",
              "          dataTable['output_type'] = 'display_data';\n",
              "          await google.colab.output.renderOutput(dataTable, element);\n",
              "          const docLink = document.createElement('div');\n",
              "          docLink.innerHTML = docLinkHtml;\n",
              "          element.appendChild(docLink);\n",
              "        }\n",
              "      </script>\n",
              "    </div>\n",
              "  </div>\n",
              "  "
            ]
          },
          "metadata": {},
          "execution_count": 11
        }
      ]
    },
    {
      "cell_type": "code",
      "source": [
        "# Distribution of labels in training data\n",
        "train_df.target.value_counts()"
      ],
      "metadata": {
        "id": "lZ6s2iQYwLtD",
        "colab": {
          "base_uri": "https://localhost:8080/"
        },
        "outputId": "b2e93333-d136-427e-a5c9-5d8326f14e2a"
      },
      "execution_count": 12,
      "outputs": [
        {
          "output_type": "execute_result",
          "data": {
            "text/plain": [
              "METHODS        59353\n",
              "RESULTS        57953\n",
              "CONCLUSIONS    27168\n",
              "BACKGROUND     21727\n",
              "OBJECTIVE      13839\n",
              "Name: target, dtype: int64"
            ]
          },
          "metadata": {},
          "execution_count": 12
        }
      ]
    },
    {
      "cell_type": "code",
      "source": [
        "# Let's check the length of different lines\n",
        "train_df.total_lines.plot.hist();"
      ],
      "metadata": {
        "id": "3lf0teg3wjNA",
        "colab": {
          "base_uri": "https://localhost:8080/",
          "height": 267
        },
        "outputId": "22bc1c23-5cee-42d5-aec2-302354850e9e"
      },
      "execution_count": 13,
      "outputs": [
        {
          "output_type": "display_data",
          "data": {
            "text/plain": [
              "<Figure size 432x288 with 1 Axes>"
            ],
            "image/png": "[encoded data removed]"
          },
          "metadata": {
            "needs_background": "light"
          }
        }
      ]
    },
    {
      "cell_type": "markdown",
      "source": [
        "### Get lists of sentences"
      ],
      "metadata": {
        "id": "A3_vjD3rwv6e"
      }
    },
    {
      "cell_type": "code",
      "source": [
        "# Convert abstract text lines into lists\n",
        "train_sentences = train_df[\"text\"].tolist()\n",
        "val_sentences = val_df[\"text\"].tolist()\n",
        "test_sentences = test_df[\"text\"].tolist()\n",
        "len(train_sentences), len(val_sentences), len(test_sentences)"
      ],
      "metadata": {
        "id": "56mhfJ00w-H_",
        "colab": {
          "base_uri": "https://localhost:8080/"
        },
        "outputId": "b10a54df-42fd-489a-b95e-5edfebe5f184"
      },
      "execution_count": 14,
      "outputs": [
        {
          "output_type": "execute_result",
          "data": {
            "text/plain": [
              "(180040, 30212, 30135)"
            ]
          },
          "metadata": {},
          "execution_count": 14
        }
      ]
    },
    {
      "cell_type": "code",
      "source": [
        "# View the 10 lines of training sentences\n",
        "train_sentences[:10]"
      ],
      "metadata": {
        "id": "vAWJh4uUxK5i",
        "colab": {
          "base_uri": "https://localhost:8080/"
        },
        "outputId": "103a7d63-f23b-44cd-e9e8-1e24f79ad0c1"
      },
      "execution_count": 15,
      "outputs": [
        {
          "output_type": "execute_result",
          "data": {
            "text/plain": [
              "['to investigate the efficacy of @ weeks of daily low-dose oral prednisolone in improving pain , mobility , and systemic low-grade inflammation in the short term and whether the effect would be sustained at @ weeks in older adults with moderate to severe knee osteoarthritis ( oa ) .',\n",
              " 'a total of @ patients with primary knee oa were randomized @:@ ; @ received @ mg/day of prednisolone and @ received placebo for @ weeks .',\n",
              " 'outcome measures included pain reduction and improvement in function scores and systemic inflammation markers .',\n",
              " 'pain was assessed using the visual analog pain scale ( @-@ mm ) .',\n",
              " 'secondary outcome measures included the western ontario and mcmaster universities osteoarthritis index scores , patient global assessment ( pga ) of the severity of knee oa , and @-min walk distance ( @mwd ) .',\n",
              " 'serum levels of interleukin @ ( il-@ ) , il-@ , tumor necrosis factor ( tnf ) - , and high-sensitivity c-reactive protein ( hscrp ) were measured .',\n",
              " 'there was a clinically relevant reduction in the intervention group compared to the placebo group for knee pain , physical function , pga , and @mwd at @ weeks .',\n",
              " 'the mean difference between treatment arms ( @ % ci ) was @ ( @-@ @ ) , p < @ ; @ ( @-@ @ ) , p < @ ; @ ( @-@ @ ) , p < @ ; and @ ( @-@ @ ) , p < @ , respectively .',\n",
              " 'further , there was a clinically relevant reduction in the serum levels of il-@ , il-@ , tnf - , and hscrp at @ weeks in the intervention group when compared to the placebo group .',\n",
              " 'these differences remained significant at @ weeks .']"
            ]
          },
          "metadata": {},
          "execution_count": 15
        }
      ]
    },
    {
      "cell_type": "markdown",
      "source": [
        "## Make numeric labels (ML Models require numeric labels)"
      ],
      "metadata": {
        "id": "4DNXKwY8xOvJ"
      }
    },
    {
      "cell_type": "code",
      "source": [
        "# One hot encode labels\n",
        "from sklearn.preprocessing import OneHotEncoder\n",
        "one_hot_encoder = OneHotEncoder(sparse = False)\n",
        "train_labels_one_hot = one_hot_encoder.fit_transform(train_df[\"target\"].to_numpy().reshape(-1, 1))\n",
        "val_labels_one_hot = one_hot_encoder.transform(val_df[\"target\"].to_numpy().reshape(-1, 1))\n",
        "test_labels_one_hot = one_hot_encoder.transform(test_df[\"target\"].to_numpy().reshape(-1, 1))\n",
        "\n",
        "train_labels_one_hot"
      ],
      "metadata": {
        "id": "myDsY5gKdZq0",
        "colab": {
          "base_uri": "https://localhost:8080/"
        },
        "outputId": "8aa9f8ca-dded-492c-fbfc-0580dbbd3a23"
      },
      "execution_count": 16,
      "outputs": [
        {
          "output_type": "execute_result",
          "data": {
            "text/plain": [
              "array([[0., 0., 0., 1., 0.],\n",
              "       [0., 0., 1., 0., 0.],\n",
              "       [0., 0., 1., 0., 0.],\n",
              "       ...,\n",
              "       [0., 0., 0., 0., 1.],\n",
              "       [0., 1., 0., 0., 0.],\n",
              "       [0., 1., 0., 0., 0.]])"
            ]
          },
          "metadata": {},
          "execution_count": 16
        }
      ]
    },
    {
      "cell_type": "markdown",
      "source": [
        "### Label encode labels"
      ],
      "metadata": {
        "id": "dYkMfgOJexbz"
      }
    },
    {
      "cell_type": "code",
      "source": [
        "# Extract labels (\"target\" columns) and encode them in to integers\n",
        "from sklearn.preprocessing import LabelEncoder\n",
        "label_encoder = LabelEncoder()\n",
        "train_labels_encoded = label_encoder.fit_transform(train_df[\"target\"].to_numpy())\n",
        "val_labels_encoded = label_encoder.transform(val_df[\"target\"].to_numpy())\n",
        "test_labels_encoded = label_encoder.transform(test_df[\"target\"].to_numpy())\n",
        "\n",
        "# check what training labels look like\n",
        "train_labels_encoded"
      ],
      "metadata": {
        "id": "DgUeMB05eZ9f",
        "colab": {
          "base_uri": "https://localhost:8080/"
        },
        "outputId": "809a0dd6-e0fd-454c-9e2e-ae124fc213e9"
      },
      "execution_count": 17,
      "outputs": [
        {
          "output_type": "execute_result",
          "data": {
            "text/plain": [
              "array([3, 2, 2, ..., 4, 1, 1])"
            ]
          },
          "metadata": {},
          "execution_count": 17
        }
      ]
    },
    {
      "cell_type": "code",
      "source": [
        "# Get class names and number of classes from LabelEncoder instance\n",
        "num_classes = len(label_encoder.classes_)\n",
        "class_names = label_encoder.classes_\n",
        "num_classes, class_names"
      ],
      "metadata": {
        "id": "O3lH4akAfNp2",
        "colab": {
          "base_uri": "https://localhost:8080/"
        },
        "outputId": "ce26f097-d1a7-4fa5-e5ec-6d197a1d148f"
      },
      "execution_count": 18,
      "outputs": [
        {
          "output_type": "execute_result",
          "data": {
            "text/plain": [
              "(5, array(['BACKGROUND', 'CONCLUSIONS', 'METHODS', 'OBJECTIVE', 'RESULTS'],\n",
              "       dtype=object))"
            ]
          },
          "metadata": {},
          "execution_count": 18
        }
      ]
    },
    {
      "cell_type": "markdown",
      "source": [
        "## Starting a series of modelling experiments\n",
        "\n",
        "As usual, we're going to be trying our a bunch of different models and seeing which one works best.\n",
        "\n",
        "And as always, we're going to start with a baseline (TF-IDF Multinomial Naive Bayes clasifier)."
      ],
      "metadata": {
        "id": "x4h3w6I4gQJx"
      }
    },
    {
      "cell_type": "markdown",
      "source": [
        "## Model 0: Getting a baseline"
      ],
      "metadata": {
        "id": "4eCSKMq_fild"
      }
    },
    {
      "cell_type": "code",
      "source": [
        "from sklearn.feature_extraction.text import TfidfVectorizer\n",
        "from sklearn.naive_bayes import MultinomialNB\n",
        "from sklearn.pipeline import Pipeline\n",
        "\n",
        "# Create a pipeline\n",
        "model_0 = Pipeline([\n",
        "  (\"tf-idf\", TfidfVectorizer()),\n",
        "  (\"clf\", MultinomialNB())\n",
        "])\n",
        "\n",
        "# Fit the pipeline to the training data\n",
        "model_0.fit(X = train_sentences,\n",
        "            y = train_labels_encoded)"
      ],
      "metadata": {
        "id": "K8yWp-EIgNXi",
        "colab": {
          "base_uri": "https://localhost:8080/"
        },
        "outputId": "af377087-3abd-41e8-ffda-3b96cc89d352"
      },
      "execution_count": 19,
      "outputs": [
        {
          "output_type": "execute_result",
          "data": {
            "text/plain": [
              "Pipeline(steps=[('tf-idf', TfidfVectorizer()), ('clf', MultinomialNB())])"
            ]
          },
          "metadata": {},
          "execution_count": 19
        }
      ]
    },
    {
      "cell_type": "code",
      "source": [
        "model_0.score(X = val_sentences,\n",
        "              y = val_labels_encoded)"
      ],
      "metadata": {
        "id": "jJCQ5IBZhFN6",
        "colab": {
          "base_uri": "https://localhost:8080/"
        },
        "outputId": "237ea691-76b1-472b-85dd-cd540e71bec4"
      },
      "execution_count": 20,
      "outputs": [
        {
          "output_type": "execute_result",
          "data": {
            "text/plain": [
              "0.7218323844829869"
            ]
          },
          "metadata": {},
          "execution_count": 20
        }
      ]
    },
    {
      "cell_type": "code",
      "source": [
        "# Make predictions using our baseline model\n",
        "baseline_preds = model_0.predict(X = val_sentences)\n",
        "baseline_preds[:10]"
      ],
      "metadata": {
        "id": "2BfAO9Qphkvn",
        "colab": {
          "base_uri": "https://localhost:8080/"
        },
        "outputId": "06f213e3-ed0b-4a66-9d98-15e1cb854822"
      },
      "execution_count": 21,
      "outputs": [
        {
          "output_type": "execute_result",
          "data": {
            "text/plain": [
              "array([4, 1, 3, 2, 2, 2, 2, 2, 4, 4])"
            ]
          },
          "metadata": {},
          "execution_count": 21
        }
      ]
    },
    {
      "cell_type": "code",
      "source": [
        "val_labels_encoded[:10]"
      ],
      "metadata": {
        "id": "xjLcuql0hvA_",
        "colab": {
          "base_uri": "https://localhost:8080/"
        },
        "outputId": "b48b0133-9cfd-45db-e8cb-733d4531649c"
      },
      "execution_count": 22,
      "outputs": [
        {
          "output_type": "execute_result",
          "data": {
            "text/plain": [
              "array([0, 0, 3, 2, 2, 4, 4, 4, 4, 1])"
            ]
          },
          "metadata": {},
          "execution_count": 22
        }
      ]
    },
    {
      "cell_type": "markdown",
      "source": [
        "### Download helper function script"
      ],
      "metadata": {
        "id": "epric-B3hyRk"
      }
    },
    {
      "cell_type": "code",
      "source": [
        "!wget https://raw.githubusercontent.com/mrdbourke/tensorflow-deep-learning/main/extras/helper_functions.py"
      ],
      "metadata": {
        "id": "pSinYiXkh5XE",
        "colab": {
          "base_uri": "https://localhost:8080/"
        },
        "outputId": "7eb3ca80-38e9-4444-c097-4909f63ef9d7"
      },
      "execution_count": 23,
      "outputs": [
        {
          "output_type": "stream",
          "name": "stdout",
          "text": [
            "--2022-10-17 07:43:40--  https://raw.githubusercontent.com/mrdbourke/tensorflow-deep-learning/main/extras/helper_functions.py\n",
            "Resolving raw.githubusercontent.com (raw.githubusercontent.com)... 185.199.108.133, 185.199.110.133, 185.199.109.133, ...\n",
            "Connecting to raw.githubusercontent.com (raw.githubusercontent.com)|185.199.108.133|:443... connected.\n",
            "HTTP request sent, awaiting response... 200 OK\n",
            "Length: 10246 (10K) [text/plain]\n",
            "Saving to: ‘helper_functions.py’\n",
            "\n",
            "\rhelper_functions.py   0%[                    ]       0  --.-KB/s               \rhelper_functions.py 100%[===================>]  10.01K  --.-KB/s    in 0s      \n",
            "\n",
            "2022-10-17 07:43:40 (47.8 MB/s) - ‘helper_functions.py’ saved [10246/10246]\n",
            "\n"
          ]
        }
      ]
    },
    {
      "cell_type": "code",
      "source": [
        "from helper_functions import calculate_results"
      ],
      "metadata": {
        "id": "StoKZ8qYh9GZ"
      },
      "execution_count": 24,
      "outputs": []
    },
    {
      "cell_type": "code",
      "source": [
        "# Calculate baseline results\n",
        "baseline_results = calculate_results(val_labels_encoded,\n",
        "                                     baseline_preds)\n",
        "baseline_results"
      ],
      "metadata": {
        "id": "cRiJmZuEiHzX",
        "colab": {
          "base_uri": "https://localhost:8080/"
        },
        "outputId": "c97d2624-cad8-49f5-edc8-be1e4442a5e2"
      },
      "execution_count": 25,
      "outputs": [
        {
          "output_type": "execute_result",
          "data": {
            "text/plain": [
              "{'accuracy': 72.1832384482987,\n",
              " 'precision': 0.7186466952323352,\n",
              " 'recall': 0.7218323844829869,\n",
              " 'f1': 0.6989250353450294}"
            ]
          },
          "metadata": {},
          "execution_count": 25
        }
      ]
    },
    {
      "cell_type": "markdown",
      "source": [
        "## Preparing out data (the text) for deep sequence model\n",
        "\n",
        "Before we start building deeper models, we've got to create vectorization and embedding layers"
      ],
      "metadata": {
        "id": "ecSM1eyUiY-E"
      }
    },
    {
      "cell_type": "code",
      "source": [
        "import numpy as np\n",
        "import tensorflow as tf\n",
        "from tensorflow.keras import layers"
      ],
      "metadata": {
        "id": "GAa_jwbmi3LS"
      },
      "execution_count": 26,
      "outputs": []
    },
    {
      "cell_type": "code",
      "source": [
        "# How long is each sentence on average?\n",
        "sent_lens = [len(sentence.split())for sentence in train_sentences]\n",
        "avg_sent_len = np.mean(sent_lens)\n",
        "avg_sent_len "
      ],
      "metadata": {
        "id": "3KiUMQi-i6RE",
        "colab": {
          "base_uri": "https://localhost:8080/"
        },
        "outputId": "00421986-3bc4-40f1-c3d2-c789b26fbd19"
      },
      "execution_count": 27,
      "outputs": [
        {
          "output_type": "execute_result",
          "data": {
            "text/plain": [
              "26.338269273494777"
            ]
          },
          "metadata": {},
          "execution_count": 27
        }
      ]
    },
    {
      "cell_type": "code",
      "source": [
        "# Whats the distribution look like?\n",
        "import matplotlib.pyplot as plt\n",
        "plt.hist(sent_lens, bins = 50);"
      ],
      "metadata": {
        "id": "NNBPh5ZcjUAq",
        "colab": {
          "base_uri": "https://localhost:8080/",
          "height": 265
        },
        "outputId": "f34cbde0-70f7-4501-e9f4-a67692402c02"
      },
      "execution_count": 28,
      "outputs": [
        {
          "output_type": "display_data",
          "data": {
            "text/plain": [
              "<Figure size 432x288 with 1 Axes>"
            ],
            "image/png": "[encoded data removed]"
          },
          "metadata": {
            "needs_background": "light"
          }
        }
      ]
    },
    {
      "cell_type": "code",
      "source": [
        "# How long of a sentence length covers 95% of examples\n",
        "output_seq_len = int(np.percentile(sent_lens, 95))\n",
        "output_seq_len"
      ],
      "metadata": {
        "id": "7FKhEhFXjprJ",
        "colab": {
          "base_uri": "https://localhost:8080/"
        },
        "outputId": "8be23c64-6f05-4c4e-db6b-1cddb13105af"
      },
      "execution_count": 29,
      "outputs": [
        {
          "output_type": "execute_result",
          "data": {
            "text/plain": [
              "55"
            ]
          },
          "metadata": {},
          "execution_count": 29
        }
      ]
    },
    {
      "cell_type": "code",
      "source": [
        "# Maximum sequence length in training set\n",
        "max(sent_lens)"
      ],
      "metadata": {
        "id": "3pZcYL4skR5o",
        "colab": {
          "base_uri": "https://localhost:8080/"
        },
        "outputId": "96662020-6b7e-4ba7-cfc1-1d8ac1996bae"
      },
      "execution_count": 30,
      "outputs": [
        {
          "output_type": "execute_result",
          "data": {
            "text/plain": [
              "296"
            ]
          },
          "metadata": {},
          "execution_count": 30
        }
      ]
    },
    {
      "cell_type": "markdown",
      "source": [
        "### Create text vectorizer layer\n",
        "\n",
        "We want to make a layer which maps our text fro mwords to numbers."
      ],
      "metadata": {
        "id": "HRZV29L_keBv"
      }
    },
    {
      "cell_type": "code",
      "source": [
        "# How many words are in out vocab\n",
        "max_tokens = 68000"
      ],
      "metadata": {
        "id": "o74301enpUfI"
      },
      "execution_count": 31,
      "outputs": []
    },
    {
      "cell_type": "code",
      "source": [
        "# Create text vectorizer\n",
        "from tensorflow.keras.layers import TextVectorization\n",
        "text_vectorizer = TextVectorization(max_tokens = max_tokens, # Numbere of words in vocab\n",
        "                                    output_sequence_length = output_seq_len,\n",
        "                                    pad_to_max_tokens = True) # Desired output length of vectorized sequence"
      ],
      "metadata": {
        "id": "iW0tIDhoqFNF"
      },
      "execution_count": 32,
      "outputs": []
    },
    {
      "cell_type": "code",
      "source": [
        "# Adapt text vectorizer to training sentences\n",
        "text_vectorizer.adapt(train_sentences)"
      ],
      "metadata": {
        "id": "F--v-Xu3qkG9"
      },
      "execution_count": 33,
      "outputs": []
    },
    {
      "cell_type": "code",
      "source": [
        "# Test out text vectorizer on random sentences\n",
        "import random\n",
        "target_sentence = random.choice(train_sentences)\n",
        "print(f\"Text:\\n{target_sentence}\")\n",
        "print(f\"\\nLength of text: {len(target_sentence)}\")\n",
        "print(f\"\\nVectorized text: {text_vectorizer([target_sentence])}\")"
      ],
      "metadata": {
        "id": "h9s2ptf7qwG-",
        "colab": {
          "base_uri": "https://localhost:8080/"
        },
        "outputId": "6efdbc38-4d09-4b3b-a32d-c40338eebd11"
      },
      "execution_count": 34,
      "outputs": [
        {
          "output_type": "stream",
          "name": "stdout",
          "text": [
            "Text:\n",
            "to observe the impacts on skeletal fluorosis pain , joint motor dysfunction and urine fluoride excretion in the treatment with fire needle therapy , electroacupuncture and calcium carbonate d@ .\n",
            "\n",
            "Length of text: 194\n",
            "\n",
            "Vectorized text: [[    6  1756     2  3136    18  2681 26518    65  1060   600   718     3\n",
            "    943  2527  2471     5     2    19     7  5140  1347    66  2553     3\n",
            "    826  5591   187     0     0     0     0     0     0     0     0     0\n",
            "      0     0     0     0     0     0     0     0     0     0     0     0\n",
            "      0     0     0     0     0     0     0]]\n"
          ]
        }
      ]
    },
    {
      "cell_type": "code",
      "source": [
        "# How many words in our training vocabulary\n",
        "rct_20_text_vocab = text_vectorizer.get_vocabulary()\n",
        "print(f\"Number of words in vocab: {len(rct_20_text_vocab)}\")\n",
        "print(f\"Most commong words in the vocab: {rct_20_text_vocab[:5]}\")\n",
        "print(f\"Least common words in the vocab: {rct_20_text_vocab[-5:]}\")"
      ],
      "metadata": {
        "id": "YXtk-EASrKdr",
        "colab": {
          "base_uri": "https://localhost:8080/"
        },
        "outputId": "9512292e-c434-4c94-c3df-ecdc5407ba2e"
      },
      "execution_count": 35,
      "outputs": [
        {
          "output_type": "stream",
          "name": "stdout",
          "text": [
            "Number of words in vocab: 64841\n",
            "Most commong words in the vocab: ['', '[UNK]', 'the', 'and', 'of']\n",
            "Least common words in the vocab: ['aainduced', 'aaigroup', 'aachener', 'aachen', 'aaacp']\n"
          ]
        }
      ]
    },
    {
      "cell_type": "code",
      "source": [
        "# Get the config of our text vectorizer\n",
        "text_vectorizer.get_config()"
      ],
      "metadata": {
        "id": "fIqj0zZxr3zC",
        "colab": {
          "base_uri": "https://localhost:8080/"
        },
        "outputId": "04645e69-2db9-44d7-8673-1a614783bc4b"
      },
      "execution_count": 36,
      "outputs": [
        {
          "output_type": "execute_result",
          "data": {
            "text/plain": [
              "{'name': 'text_vectorization',\n",
              " 'trainable': True,\n",
              " 'batch_input_shape': (None,),\n",
              " 'dtype': 'string',\n",
              " 'max_tokens': 68000,\n",
              " 'standardize': 'lower_and_strip_punctuation',\n",
              " 'split': 'whitespace',\n",
              " 'ngrams': None,\n",
              " 'output_mode': 'int',\n",
              " 'output_sequence_length': 55,\n",
              " 'pad_to_max_tokens': True,\n",
              " 'sparse': False,\n",
              " 'ragged': False,\n",
              " 'vocabulary': None,\n",
              " 'idf_weights': None}"
            ]
          },
          "metadata": {},
          "execution_count": 36
        }
      ]
    },
    {
      "cell_type": "markdown",
      "source": [
        "### Create a custom text embedding layer"
      ],
      "metadata": {
        "id": "-LnBjbR9sF-S"
      }
    },
    {
      "cell_type": "code",
      "source": [
        "# CReate token embedding layer\n",
        "token_embed = layers.Embedding(input_dim = len(rct_20_text_vocab),\n",
        "                               output_dim = 128,\n",
        "                               mask_zero = True, # Use masking to handle variable sequence length\n",
        "                               name = \"token_embedding\")"
      ],
      "metadata": {
        "id": "OJqbLODksVki"
      },
      "execution_count": 37,
      "outputs": []
    },
    {
      "cell_type": "code",
      "source": [
        "# Show example embedding\n",
        "print(f\"Sentence before vectorization:\\n {target_sentence}\\n\")\n",
        "vectorized_sentence = text_vectorizer([target_sentence])\n",
        "print(f\"Sentence after vectorization:\\n {vectorized_sentence}\\n\")\n",
        "embedded_sentence = token_embed(vectorized_sentence)\n",
        "print(f\"Sentence after embedding:\\n {embedded_sentence}\\n\")\n",
        "print(f\"Embedded sentence shape: {embedded_sentence.shape}\")"
      ],
      "metadata": {
        "id": "2QiT6xqsJQ4C",
        "colab": {
          "base_uri": "https://localhost:8080/"
        },
        "outputId": "dbd0acf2-ca9b-46bc-bc0e-382e982529df"
      },
      "execution_count": 38,
      "outputs": [
        {
          "output_type": "stream",
          "name": "stdout",
          "text": [
            "Sentence before vectorization:\n",
            " to observe the impacts on skeletal fluorosis pain , joint motor dysfunction and urine fluoride excretion in the treatment with fire needle therapy , electroacupuncture and calcium carbonate d@ .\n",
            "\n",
            "Sentence after vectorization:\n",
            " [[    6  1756     2  3136    18  2681 26518    65  1060   600   718     3\n",
            "    943  2527  2471     5     2    19     7  5140  1347    66  2553     3\n",
            "    826  5591   187     0     0     0     0     0     0     0     0     0\n",
            "      0     0     0     0     0     0     0     0     0     0     0     0\n",
            "      0     0     0     0     0     0     0]]\n",
            "\n",
            "Sentence after embedding:\n",
            " [[[-0.01643423  0.04183291 -0.03246086 ... -0.01697391 -0.00571955\n",
            "   -0.03711706]\n",
            "  [-0.02012163 -0.01329724  0.04685659 ... -0.03441439 -0.00039947\n",
            "    0.01295011]\n",
            "  [ 0.01875288  0.02331698  0.02810634 ...  0.01362206 -0.03358473\n",
            "   -0.04031861]\n",
            "  ...\n",
            "  [-0.00499635 -0.0198693  -0.01308137 ... -0.02743256 -0.04364897\n",
            "   -0.03746971]\n",
            "  [-0.00499635 -0.0198693  -0.01308137 ... -0.02743256 -0.04364897\n",
            "   -0.03746971]\n",
            "  [-0.00499635 -0.0198693  -0.01308137 ... -0.02743256 -0.04364897\n",
            "   -0.03746971]]]\n",
            "\n",
            "Embedded sentence shape: (1, 55, 128)\n"
          ]
        }
      ]
    },
    {
      "cell_type": "markdown",
      "source": [
        "## Creating datasets (making sure our data loads as fast as possible)\n",
        "\n",
        "We're going to setup our data to run as fast as possible with the TensorFlow tf.data API."
      ],
      "metadata": {
        "id": "Lvih3jY3JsAu"
      }
    },
    {
      "cell_type": "code",
      "source": [
        "# Turn our data into TensorFlow Datasets\n",
        "train_dataset = tf.data.Dataset.from_tensor_slices((train_sentences, train_labels_one_hot))\n",
        "valid_dataset = tf.data.Dataset.from_tensor_slices((val_sentences, val_labels_one_hot))\n",
        "test_dataset = tf.data.Dataset.from_tensor_slices((test_sentences, test_labels_one_hot))\n",
        "\n",
        "train_dataset"
      ],
      "metadata": {
        "id": "op__DvtfKfbB",
        "colab": {
          "base_uri": "https://localhost:8080/"
        },
        "outputId": "9f33f90d-8685-4952-dd07-d2d3371b7c83"
      },
      "execution_count": 39,
      "outputs": [
        {
          "output_type": "execute_result",
          "data": {
            "text/plain": [
              "<TensorSliceDataset element_spec=(TensorSpec(shape=(), dtype=tf.string, name=None), TensorSpec(shape=(5,), dtype=tf.float64, name=None))>"
            ]
          },
          "metadata": {},
          "execution_count": 39
        }
      ]
    },
    {
      "cell_type": "code",
      "source": [
        "# Take the TensorSliceDatasets and turn them into prefetched dataset\n",
        "train_dataset = train_dataset.batch(32).prefetch(tf.data.AUTOTUNE)\n",
        "valid_dataset = valid_dataset.batch(32).prefetch(tf.data.AUTOTUNE)\n",
        "test_dataset = test_dataset.batch(32).prefetch(tf.data.AUTOTUNE)\n",
        "\n",
        "train_dataset"
      ],
      "metadata": {
        "id": "_cuv-IkcLOFk",
        "colab": {
          "base_uri": "https://localhost:8080/"
        },
        "outputId": "939f995f-64fe-4783-f986-cc67ef901a07"
      },
      "execution_count": 40,
      "outputs": [
        {
          "output_type": "execute_result",
          "data": {
            "text/plain": [
              "<PrefetchDataset element_spec=(TensorSpec(shape=(None,), dtype=tf.string, name=None), TensorSpec(shape=(None, 5), dtype=tf.float64, name=None))>"
            ]
          },
          "metadata": {},
          "execution_count": 40
        }
      ]
    },
    {
      "cell_type": "code",
      "source": [
        "# Create 1D conv model to process sequences\n",
        "inputs = layers.Input(shape = (1,), dtype = tf.string)\n",
        "text_vectors = text_vectorizer(inputs) # Vectorize text inputs\n",
        "token_embeddings = token_embed(text_vectors)\n",
        "x = layers.Conv1D(64, 5, padding = \"same\", activation = \"relu\")(token_embeddings)\n",
        "x = layers.GlobalAveragePooling1D()(x) # Condense the output of our feature vector from conv layer\n",
        "outputs = layers.Dense(num_classes, activation = \"softmax\")(x)\n",
        "model_1 = tf.keras.Model(inputs, outputs)\n",
        "\n",
        "# Compile the model\n",
        "model_1.compile(loss = \"categorical_crossentropy\",\n",
        "                optimizer = tf.keras.optimizers.Adam(),\n",
        "                metrics = [\"accuracy\"])"
      ],
      "metadata": {
        "id": "_jNWbLTRMVHA"
      },
      "execution_count": 41,
      "outputs": []
    },
    {
      "cell_type": "code",
      "source": [
        "model_1.summary()"
      ],
      "metadata": {
        "id": "Q7UTw_b_OwY9",
        "colab": {
          "base_uri": "https://localhost:8080/"
        },
        "outputId": "e7dd5244-04c1-41ea-a5ad-62216bc34f05"
      },
      "execution_count": 42,
      "outputs": [
        {
          "output_type": "stream",
          "name": "stdout",
          "text": [
            "Model: \"model\"\n",
            "_________________________________________________________________\n",
            " Layer (type)                Output Shape              Param #   \n",
            "=================================================================\n",
            " input_1 (InputLayer)        [(None, 1)]               0         \n",
            "                                                                 \n",
            " text_vectorization (TextVec  (None, 55)               0         \n",
            " torization)                                                     \n",
            "                                                                 \n",
            " token_embedding (Embedding)  (None, 55, 128)          8299648   \n",
            "                                                                 \n",
            " conv1d (Conv1D)             (None, 55, 64)            41024     \n",
            "                                                                 \n",
            " global_average_pooling1d (G  (None, 64)               0         \n",
            " lobalAveragePooling1D)                                          \n",
            "                                                                 \n",
            " dense (Dense)               (None, 5)                 325       \n",
            "                                                                 \n",
            "=================================================================\n",
            "Total params: 8,340,997\n",
            "Trainable params: 8,340,997\n",
            "Non-trainable params: 0\n",
            "_________________________________________________________________\n"
          ]
        }
      ]
    },
    {
      "cell_type": "code",
      "source": [
        "# Fit the model\n",
        "history_model_1 = model_1.fit(train_dataset,\n",
        "                              steps_per_epoch = int(0.1 * len(train_dataset)),\n",
        "                              epochs = 3,\n",
        "                              validation_data = valid_dataset,\n",
        "                              validation_steps = int(0.1 * len(valid_dataset))) # Only validate on 10% of batches"
      ],
      "metadata": {
        "id": "jEZQEwyoOyvH",
        "colab": {
          "base_uri": "https://localhost:8080/"
        },
        "outputId": "c956465a-7e7a-4431-d820-63da0c51fac0"
      },
      "execution_count": 43,
      "outputs": [
        {
          "output_type": "stream",
          "name": "stdout",
          "text": [
            "Epoch 1/3\n",
            "562/562 [==============================] - 14s 9ms/step - loss: 0.9157 - accuracy: 0.6386 - val_loss: 0.6840 - val_accuracy: 0.7417\n",
            "Epoch 2/3\n",
            "562/562 [==============================] - 5s 8ms/step - loss: 0.6570 - accuracy: 0.7569 - val_loss: 0.6316 - val_accuracy: 0.7706\n",
            "Epoch 3/3\n",
            "562/562 [==============================] - 5s 8ms/step - loss: 0.6155 - accuracy: 0.7754 - val_loss: 0.5937 - val_accuracy: 0.7836\n"
          ]
        }
      ]
    },
    {
      "cell_type": "code",
      "source": [
        "# Evaluate the model\n",
        "model_1.evaluate(valid_dataset)"
      ],
      "metadata": {
        "id": "WBztcfFJPyuy",
        "colab": {
          "base_uri": "https://localhost:8080/"
        },
        "outputId": "b8aec9f6-c6cd-4180-de65-bbf0dc18e5c5"
      },
      "execution_count": 44,
      "outputs": [
        {
          "output_type": "stream",
          "name": "stdout",
          "text": [
            "945/945 [==============================] - 3s 3ms/step - loss: 0.5940 - accuracy: 0.7872\n"
          ]
        },
        {
          "output_type": "execute_result",
          "data": {
            "text/plain": [
              "[0.5939871668815613, 0.7872037887573242]"
            ]
          },
          "metadata": {},
          "execution_count": 44
        }
      ]
    },
    {
      "cell_type": "code",
      "source": [
        "# Make predictions (our model predicts prediction probabilities for each class)\n",
        "model_1_pred_probs = model_1.predict(valid_dataset)\n",
        "model_1_pred_probs[:10], model_1_pred_probs.shape"
      ],
      "metadata": {
        "id": "816QXZ0EQUsC",
        "colab": {
          "base_uri": "https://localhost:8080/"
        },
        "outputId": "1e2f00a5-2d62-4fdd-cb6c-b78f68b9cce3"
      },
      "execution_count": 45,
      "outputs": [
        {
          "output_type": "stream",
          "name": "stdout",
          "text": [
            "945/945 [==============================] - 3s 3ms/step\n"
          ]
        },
        {
          "output_type": "execute_result",
          "data": {
            "text/plain": [
              "(array([[4.65072423e-01, 1.65359363e-01, 5.63542955e-02, 2.87281543e-01,\n",
              "         2.59324089e-02],\n",
              "        [3.95290703e-01, 3.53376657e-01, 1.17628193e-02, 2.28748932e-01,\n",
              "         1.08208805e-02],\n",
              "        [1.42783493e-01, 6.56597223e-03, 2.70231534e-03, 8.47919106e-01,\n",
              "         2.90675507e-05],\n",
              "        [1.54351328e-05, 4.13778616e-04, 9.84307587e-01, 1.50991928e-05,\n",
              "         1.52480453e-02],\n",
              "        [1.06940453e-03, 3.91615629e-02, 2.96903282e-01, 8.62660410e-04,\n",
              "         6.62003100e-01],\n",
              "        [2.02490147e-02, 3.06035429e-02, 5.76414168e-01, 9.28072166e-03,\n",
              "         3.63452554e-01],\n",
              "        [5.04226889e-04, 4.63062385e-03, 2.91741788e-01, 2.57286534e-04,\n",
              "         7.02866077e-01],\n",
              "        [3.07066608e-02, 3.02896369e-02, 6.31582856e-01, 1.62503663e-02,\n",
              "         2.91170537e-01],\n",
              "        [7.79089900e-13, 3.12935988e-08, 2.69450027e-07, 3.09753416e-13,\n",
              "         9.99999642e-01],\n",
              "        [9.90063325e-03, 6.94665730e-01, 5.77384010e-02, 2.45123189e-02,\n",
              "         2.13182941e-01]], dtype=float32), (30212, 5))"
            ]
          },
          "metadata": {},
          "execution_count": 45
        }
      ]
    },
    {
      "cell_type": "code",
      "source": [
        "# COnvert pred probs to classes\n",
        "model_1_preds = tf.argmax(model_1_pred_probs, axis = 1)\n",
        "model_1_preds[:10]"
      ],
      "metadata": {
        "id": "m0ZiI9tAQgdD",
        "colab": {
          "base_uri": "https://localhost:8080/"
        },
        "outputId": "1a271891-e4ff-45c0-efd7-804f01df71f6"
      },
      "execution_count": 46,
      "outputs": [
        {
          "output_type": "execute_result",
          "data": {
            "text/plain": [
              "<tf.Tensor: shape=(10,), dtype=int64, numpy=array([0, 0, 3, 2, 4, 2, 4, 2, 4, 1])>"
            ]
          },
          "metadata": {},
          "execution_count": 46
        }
      ]
    },
    {
      "cell_type": "code",
      "source": [
        "# Calculate model_1 results \n",
        "model_1_results = calculate_results(val_labels_encoded,\n",
        "                                    model_1_preds)\n",
        "model_1_results"
      ],
      "metadata": {
        "id": "qzyA8BihQ3vq",
        "colab": {
          "base_uri": "https://localhost:8080/"
        },
        "outputId": "92695db5-dd22-43ef-8800-d24a718f684b"
      },
      "execution_count": 47,
      "outputs": [
        {
          "output_type": "execute_result",
          "data": {
            "text/plain": [
              "{'accuracy': 78.72037600953263,\n",
              " 'precision': 0.7837257883902207,\n",
              " 'recall': 0.7872037600953263,\n",
              " 'f1': 0.7844138028077136}"
            ]
          },
          "metadata": {},
          "execution_count": 47
        }
      ]
    },
    {
      "cell_type": "markdown",
      "source": [
        "## Model 2: Feature extraction with pretrained token embeddings\n",
        "\n",
        "Now lets use pretrained word embedding. More specifically we're using the Universal Sentence Encoder."
      ],
      "metadata": {
        "id": "VH_sqMtGRBS-"
      }
    },
    {
      "cell_type": "code",
      "source": [
        "# Download pretrained TensorFlow Hub USE\n",
        "import tensorflow_hub as hub\n",
        "tf_hub_embedding_layer = hub.KerasLayer(\"https://tfhub.dev/google/universal-sentence-encoder/4\",\n",
        "                                        trainable = False,\n",
        "                                        name = \"universal_sentence_encoder\")"
      ],
      "metadata": {
        "id": "lB2oureERhgO"
      },
      "execution_count": 48,
      "outputs": []
    },
    {
      "cell_type": "code",
      "source": [
        "# Test out the pretrained embedding on a random sentence\n",
        "random_train_sentence = random.choice(train_sentences)\n",
        "print(f\"Random Sentence:\\n {random_train_sentence}\")\n",
        "use_embedded_sentence = tf_hub_embedding_layer([random_train_sentence])\n",
        "print(f\"Sentence after embedding:\\n {use_embedded_sentence[0][:30]}\\n\")\n",
        "print(f\"Length of sentence embedding: {len(use_embedded_sentence[0])}\")"
      ],
      "metadata": {
        "id": "UTZpJkNiS0HZ",
        "colab": {
          "base_uri": "https://localhost:8080/"
        },
        "outputId": "8de359fc-3241-4e61-c815-0242d21b216b"
      },
      "execution_count": 49,
      "outputs": [
        {
          "output_type": "stream",
          "name": "stdout",
          "text": [
            "Random Sentence:\n",
            " there is no benefit to adding a short video to the previously established improved readability and audiovisual supplementation .\n",
            "Sentence after embedding:\n",
            " [ 0.04288513 -0.05134558  0.02095374 -0.07289219 -0.08188729  0.05843003\n",
            " -0.01931066  0.07469893  0.02448897  0.06651999  0.02088647  0.07203542\n",
            " -0.02185751  0.05200147 -0.02120764  0.06989586 -0.02310774 -0.0348451\n",
            " -0.07132298  0.03134206  0.03530257  0.0602991  -0.07320807  0.06724256\n",
            " -0.08244196  0.01015379  0.01873566 -0.03543239  0.02362772 -0.02434626]\n",
            "\n",
            "Length of sentence embedding: 512\n"
          ]
        }
      ]
    },
    {
      "cell_type": "markdown",
      "source": [
        "### Building and fitting an NLP Feature extractyion model using pretrained embeddings from TensorFlow Hub"
      ],
      "metadata": {
        "id": "MtUkbwpBTK7d"
      }
    },
    {
      "cell_type": "code",
      "source": [
        "# Define feature extraction model using TF Hub Layer\n",
        "inputs = layers.Input(shape = [], dtype = tf.string)\n",
        "pretrained_embedding = tf_hub_embedding_layer(inputs) # Tokenize text and create emebdding of each sequence\n",
        "x = layers.Dense(128, activation = \"relu\")(pretrained_embedding)\n",
        "# Note: You could add more layers here if you wanted to\n",
        "outputs = layers.Dense(5, activation = \"softmax\")(x) # Output layer\n",
        "model_2 = tf.keras.Model(inputs, outputs, name = \"model_2_USE_feature_extractor\")\n",
        "\n",
        "# Compile the model\n",
        "model_2.compile(loss = \"categorical_crossentropy\",\n",
        "                optimizer = tf.keras.optimizers.Adam(),\n",
        "                metrics = [\"accuracy\"])"
      ],
      "metadata": {
        "id": "tyB8VoFALxQs"
      },
      "execution_count": 50,
      "outputs": []
    },
    {
      "cell_type": "code",
      "source": [
        "model_2.summary()"
      ],
      "metadata": {
        "id": "e1KfHETAMlPW",
        "colab": {
          "base_uri": "https://localhost:8080/"
        },
        "outputId": "9585dccf-78de-4bd2-989f-bad60b5eef51"
      },
      "execution_count": 51,
      "outputs": [
        {
          "output_type": "stream",
          "name": "stdout",
          "text": [
            "Model: \"model_2_USE_feature_extractor\"\n",
            "_________________________________________________________________\n",
            " Layer (type)                Output Shape              Param #   \n",
            "=================================================================\n",
            " input_2 (InputLayer)        [(None,)]                 0         \n",
            "                                                                 \n",
            " universal_sentence_encoder   (None, 512)              256797824 \n",
            " (KerasLayer)                                                    \n",
            "                                                                 \n",
            " dense_1 (Dense)             (None, 128)               65664     \n",
            "                                                                 \n",
            " dense_2 (Dense)             (None, 5)                 645       \n",
            "                                                                 \n",
            "=================================================================\n",
            "Total params: 256,864,133\n",
            "Trainable params: 66,309\n",
            "Non-trainable params: 256,797,824\n",
            "_________________________________________________________________\n"
          ]
        }
      ]
    },
    {
      "cell_type": "code",
      "source": [
        "# FIt model_2 to the data\n",
        "history_model_2 = model_2.fit(train_dataset,\n",
        "                              epochs = 3,\n",
        "                              steps_per_epoch = int(0.1 * len(train_dataset)),\n",
        "                              validation_data = valid_dataset,\n",
        "                              validation_steps = int(0.1 * len(valid_dataset)))"
      ],
      "metadata": {
        "id": "H2MaEbnGMl9n",
        "colab": {
          "base_uri": "https://localhost:8080/"
        },
        "outputId": "195e327c-380a-453e-d688-be3d67e3d8f7"
      },
      "execution_count": 52,
      "outputs": [
        {
          "output_type": "stream",
          "name": "stdout",
          "text": [
            "Epoch 1/3\n",
            "562/562 [==============================] - 10s 13ms/step - loss: 0.9168 - accuracy: 0.6494 - val_loss: 0.7972 - val_accuracy: 0.6925\n",
            "Epoch 2/3\n",
            "562/562 [==============================] - 7s 12ms/step - loss: 0.7698 - accuracy: 0.6992 - val_loss: 0.7549 - val_accuracy: 0.7051\n",
            "Epoch 3/3\n",
            "562/562 [==============================] - 7s 12ms/step - loss: 0.7528 - accuracy: 0.7109 - val_loss: 0.7390 - val_accuracy: 0.7154\n"
          ]
        }
      ]
    },
    {
      "cell_type": "code",
      "source": [
        "# EValuate on the whole validation dataset\n",
        "model_2.evaluate(valid_dataset)"
      ],
      "metadata": {
        "id": "dsYkvShoNBfq",
        "colab": {
          "base_uri": "https://localhost:8080/"
        },
        "outputId": "22786992-b316-4639-e47f-a7150ed39d9f"
      },
      "execution_count": 53,
      "outputs": [
        {
          "output_type": "stream",
          "name": "stdout",
          "text": [
            "945/945 [==============================] - 10s 10ms/step - loss: 0.7416 - accuracy: 0.7136\n"
          ]
        },
        {
          "output_type": "execute_result",
          "data": {
            "text/plain": [
              "[0.7415826320648193, 0.7135906219482422]"
            ]
          },
          "metadata": {},
          "execution_count": 53
        }
      ]
    },
    {
      "cell_type": "code",
      "source": [
        "# Make predictions\n",
        "model_2_pred_probs = model_2.predict(valid_dataset)\n",
        "model_2_pred_probs"
      ],
      "metadata": {
        "id": "p6-IJg0lNXCs",
        "colab": {
          "base_uri": "https://localhost:8080/"
        },
        "outputId": "0a6ef9b4-e2ef-4491-dbc7-39daff4eb2d8"
      },
      "execution_count": 54,
      "outputs": [
        {
          "output_type": "stream",
          "name": "stdout",
          "text": [
            "945/945 [==============================] - 9s 10ms/step\n"
          ]
        },
        {
          "output_type": "execute_result",
          "data": {
            "text/plain": [
              "array([[4.2993951e-01, 3.5259423e-01, 1.8719396e-03, 2.0916262e-01,\n",
              "        6.4317132e-03],\n",
              "       [3.1126043e-01, 5.3545141e-01, 3.1625140e-03, 1.4713717e-01,\n",
              "        2.9884039e-03],\n",
              "       [2.1913669e-01, 1.4660503e-01, 1.7521709e-02, 5.7442439e-01,\n",
              "        4.2312276e-02],\n",
              "       ...,\n",
              "       [1.6796245e-03, 5.5877734e-03, 5.4566674e-02, 8.6892844e-04,\n",
              "        9.3729705e-01],\n",
              "       [4.4814763e-03, 5.1241454e-02, 2.0580068e-01, 1.6092024e-03,\n",
              "        7.3686719e-01],\n",
              "       [1.8696278e-01, 3.1545156e-01, 4.3542060e-01, 7.5468188e-03,\n",
              "        5.4618187e-02]], dtype=float32)"
            ]
          },
          "metadata": {},
          "execution_count": 54
        }
      ]
    },
    {
      "cell_type": "code",
      "source": [
        "# Make predictions classes\n",
        "model_2_pred = tf.argmax(model_2_pred_probs, axis = 1)\n",
        "model_2_pred"
      ],
      "metadata": {
        "id": "N4F19OK5Ncn_",
        "colab": {
          "base_uri": "https://localhost:8080/"
        },
        "outputId": "e6acdffe-c8a4-4769-a4ad-bc24aa436b67"
      },
      "execution_count": 55,
      "outputs": [
        {
          "output_type": "execute_result",
          "data": {
            "text/plain": [
              "<tf.Tensor: shape=(30212,), dtype=int64, numpy=array([0, 1, 3, ..., 4, 4, 2])>"
            ]
          },
          "metadata": {},
          "execution_count": 55
        }
      ]
    },
    {
      "cell_type": "code",
      "source": [
        "model_2_results = calculate_results(val_labels_encoded,\n",
        "                                    model_2_pred)\n",
        "model_2_results"
      ],
      "metadata": {
        "id": "ozXjffy2No-9",
        "colab": {
          "base_uri": "https://localhost:8080/"
        },
        "outputId": "78c624c7-f379-4ce4-f7f6-c68d719ec16d"
      },
      "execution_count": 56,
      "outputs": [
        {
          "output_type": "execute_result",
          "data": {
            "text/plain": [
              "{'accuracy': 71.35906262412286,\n",
              " 'precision': 0.713825482790783,\n",
              " 'recall': 0.7135906262412286,\n",
              " 'f1': 0.7105822257322852}"
            ]
          },
          "metadata": {},
          "execution_count": 56
        }
      ]
    },
    {
      "cell_type": "markdown",
      "source": [
        "## Model 3: Conv1D with character embeddings"
      ],
      "metadata": {
        "id": "icwxpaeGNyWw"
      }
    },
    {
      "cell_type": "markdown",
      "source": [
        "### Create a character-level tokenizer"
      ],
      "metadata": {
        "id": "gDqswWpqOY1H"
      }
    },
    {
      "cell_type": "code",
      "source": [
        "train_sentences[:5]"
      ],
      "metadata": {
        "id": "kgfCPEVzPBMB",
        "colab": {
          "base_uri": "https://localhost:8080/"
        },
        "outputId": "6b1c651d-524d-4745-9a81-3a1ed6f3c2db"
      },
      "execution_count": 57,
      "outputs": [
        {
          "output_type": "execute_result",
          "data": {
            "text/plain": [
              "['to investigate the efficacy of @ weeks of daily low-dose oral prednisolone in improving pain , mobility , and systemic low-grade inflammation in the short term and whether the effect would be sustained at @ weeks in older adults with moderate to severe knee osteoarthritis ( oa ) .',\n",
              " 'a total of @ patients with primary knee oa were randomized @:@ ; @ received @ mg/day of prednisolone and @ received placebo for @ weeks .',\n",
              " 'outcome measures included pain reduction and improvement in function scores and systemic inflammation markers .',\n",
              " 'pain was assessed using the visual analog pain scale ( @-@ mm ) .',\n",
              " 'secondary outcome measures included the western ontario and mcmaster universities osteoarthritis index scores , patient global assessment ( pga ) of the severity of knee oa , and @-min walk distance ( @mwd ) .']"
            ]
          },
          "metadata": {},
          "execution_count": 57
        }
      ]
    },
    {
      "cell_type": "code",
      "source": [
        "# Make function to split sentences into characters\n",
        "def split_chars(text):\n",
        "  return \" \".join(list(text))\n",
        "\n",
        "# Text splitting non-character-level sequence into characters\n",
        "split_chars(random_train_sentence)"
      ],
      "metadata": {
        "id": "0z7jtx32PCg9",
        "colab": {
          "base_uri": "https://localhost:8080/",
          "height": 53
        },
        "outputId": "c32284a4-c1b8-495b-a11d-74735a2e8a70"
      },
      "execution_count": 58,
      "outputs": [
        {
          "output_type": "execute_result",
          "data": {
            "text/plain": [
              "'t h e r e   i s   n o   b e n e f i t   t o   a d d i n g   a   s h o r t   v i d e o   t o   t h e   p r e v i o u s l y   e s t a b l i s h e d   i m p r o v e d   r e a d a b i l i t y   a n d   a u d i o v i s u a l   s u p p l e m e n t a t i o n   .'"
            ],
            "application/vnd.google.colaboratory.intrinsic+json": {
              "type": "string"
            }
          },
          "metadata": {},
          "execution_count": 58
        }
      ]
    },
    {
      "cell_type": "code",
      "source": [
        "# Split sequence-level data splits into character-level data splits\n",
        "train_chars = [split_chars(sentence) for sentence in train_sentences]\n",
        "val_chars = [split_chars(sentence) for sentence in val_sentences]\n",
        "test_chars = [split_chars(sentence) for sentence in test_sentences]\n",
        "train_chars[:5]"
      ],
      "metadata": {
        "id": "KHgEy7TQPb19",
        "colab": {
          "base_uri": "https://localhost:8080/"
        },
        "outputId": "dfb454db-4e18-41d6-d1d2-e8aff2400705"
      },
      "execution_count": 59,
      "outputs": [
        {
          "output_type": "execute_result",
          "data": {
            "text/plain": [
              "['t o   i n v e s t i g a t e   t h e   e f f i c a c y   o f   @   w e e k s   o f   d a i l y   l o w - d o s e   o r a l   p r e d n i s o l o n e   i n   i m p r o v i n g   p a i n   ,   m o b i l i t y   ,   a n d   s y s t e m i c   l o w - g r a d e   i n f l a m m a t i o n   i n   t h e   s h o r t   t e r m   a n d   w h e t h e r   t h e   e f f e c t   w o u l d   b e   s u s t a i n e d   a t   @   w e e k s   i n   o l d e r   a d u l t s   w i t h   m o d e r a t e   t o   s e v e r e   k n e e   o s t e o a r t h r i t i s   (   o a   )   .',\n",
              " 'a   t o t a l   o f   @   p a t i e n t s   w i t h   p r i m a r y   k n e e   o a   w e r e   r a n d o m i z e d   @ : @   ;   @   r e c e i v e d   @   m g / d a y   o f   p r e d n i s o l o n e   a n d   @   r e c e i v e d   p l a c e b o   f o r   @   w e e k s   .',\n",
              " 'o u t c o m e   m e a s u r e s   i n c l u d e d   p a i n   r e d u c t i o n   a n d   i m p r o v e m e n t   i n   f u n c t i o n   s c o r e s   a n d   s y s t e m i c   i n f l a m m a t i o n   m a r k e r s   .',\n",
              " 'p a i n   w a s   a s s e s s e d   u s i n g   t h e   v i s u a l   a n a l o g   p a i n   s c a l e   (   @ - @   m m   )   .',\n",
              " 's e c o n d a r y   o u t c o m e   m e a s u r e s   i n c l u d e d   t h e   w e s t e r n   o n t a r i o   a n d   m c m a s t e r   u n i v e r s i t i e s   o s t e o a r t h r i t i s   i n d e x   s c o r e s   ,   p a t i e n t   g l o b a l   a s s e s s m e n t   (   p g a   )   o f   t h e   s e v e r i t y   o f   k n e e   o a   ,   a n d   @ - m i n   w a l k   d i s t a n c e   (   @ m w d   )   .']"
            ]
          },
          "metadata": {},
          "execution_count": 59
        }
      ]
    },
    {
      "cell_type": "code",
      "source": [
        "# Whats the average character length\n",
        "chars_lens = [len(sentence) for sentence in train_sentences]\n",
        "mean_char_lens = np.mean(chars_lens)\n",
        "mean_char_lens"
      ],
      "metadata": {
        "id": "zlEIIlazPlR2",
        "colab": {
          "base_uri": "https://localhost:8080/"
        },
        "outputId": "9d4869e6-d778-4ce7-a1f4-308483ba8a0d"
      },
      "execution_count": 60,
      "outputs": [
        {
          "output_type": "execute_result",
          "data": {
            "text/plain": [
              "149.3662574983337"
            ]
          },
          "metadata": {},
          "execution_count": 60
        }
      ]
    },
    {
      "cell_type": "code",
      "source": [
        "# Check the distribution\n",
        "import matplotlib.pyplot as plt\n",
        "plt.hist(chars_lens, bins = 27);"
      ],
      "metadata": {
        "id": "Dyd8a0hHP_tL",
        "colab": {
          "base_uri": "https://localhost:8080/",
          "height": 265
        },
        "outputId": "591193c6-4b1b-44fe-d2aa-0ac6c3f13141"
      },
      "execution_count": 61,
      "outputs": [
        {
          "output_type": "display_data",
          "data": {
            "text/plain": [
              "<Figure size 432x288 with 1 Axes>"
            ],
            "image/png": "[encoded data removed]"
          },
          "metadata": {
            "needs_background": "light"
          }
        }
      ]
    },
    {
      "cell_type": "code",
      "source": [
        "# Find whats character length covers 95% of sequences\n",
        "output_seq_char_len = int(np.percentile(chars_lens, 95))\n",
        "output_seq_char_len"
      ],
      "metadata": {
        "id": "aLqGK6m1QRA_",
        "colab": {
          "base_uri": "https://localhost:8080/"
        },
        "outputId": "e58ec802-1639-4577-ee6f-80cd74c741cf"
      },
      "execution_count": 62,
      "outputs": [
        {
          "output_type": "execute_result",
          "data": {
            "text/plain": [
              "290"
            ]
          },
          "metadata": {},
          "execution_count": 62
        }
      ]
    },
    {
      "cell_type": "code",
      "source": [
        "# Get all keyboard characters\n",
        "import string\n",
        "alphabet = string.ascii_lowercase + string.digits + string.punctuation\n",
        "len(alphabet)"
      ],
      "metadata": {
        "id": "qA2nSYbGQfs6",
        "colab": {
          "base_uri": "https://localhost:8080/"
        },
        "outputId": "a3e5673f-f9eb-484b-ace1-bb56edd42496"
      },
      "execution_count": 63,
      "outputs": [
        {
          "output_type": "execute_result",
          "data": {
            "text/plain": [
              "68"
            ]
          },
          "metadata": {},
          "execution_count": 63
        }
      ]
    },
    {
      "cell_type": "code",
      "source": [
        "# Create char level token vectorizer instance\n",
        "NUM_CHAR_TOKENS = len(alphabet) + 2\n",
        "char_vectorizer = TextVectorization(max_tokens = NUM_CHAR_TOKENS,\n",
        "                                    output_sequence_length = output_seq_char_len,\n",
        "                                    pad_to_max_tokens = True,\n",
        "                                    name = \"char_vectorizer\")"
      ],
      "metadata": {
        "id": "RYAHWIBCRJAG"
      },
      "execution_count": 64,
      "outputs": []
    },
    {
      "cell_type": "code",
      "source": [
        "# Adapt character vectorizer to training character\n",
        "char_vectorizer.adapt(train_chars)"
      ],
      "metadata": {
        "id": "_y1m2xpWRz9P"
      },
      "execution_count": 65,
      "outputs": []
    },
    {
      "cell_type": "code",
      "source": [
        "# Check character vocab stats\n",
        "char_vocab = char_vectorizer.get_vocabulary()\n",
        "print(f\"Number of different characters in character vocab: {len(char_vocab)}\")\n",
        "print(f\"5 most commong characters: {char_vocab[:5]}\")\n",
        "print(f\"5 least common characters: {char_vocab[-5:]}\")"
      ],
      "metadata": {
        "id": "5HD3qf3fR_Ew",
        "colab": {
          "base_uri": "https://localhost:8080/"
        },
        "outputId": "e1de0e7a-c73a-41d7-b7fa-f724f57d5ca3"
      },
      "execution_count": 66,
      "outputs": [
        {
          "output_type": "stream",
          "name": "stdout",
          "text": [
            "Number of different characters in character vocab: 28\n",
            "5 most commong characters: ['', '[UNK]', 'e', 't', 'i']\n",
            "5 least common characters: ['k', 'x', 'z', 'q', 'j']\n"
          ]
        }
      ]
    },
    {
      "cell_type": "code",
      "source": [
        "# Test out character vectorizer\n",
        "random_train_chars = random.choice(train_chars)\n",
        "print(f\"Charified text:\\n{random_train_chars}\")\n",
        "print(f\"Length of random_train_chars: {len(random_train_chars.split())}\")\n",
        "vectorized_chars = char_vectorizer([random_train_chars])\n",
        "print(f\"Vectorized chars:\\n {vectorized_chars}\")\n",
        "print(f\"\\nLength of vectorized chars: {len(vectorized_chars[0])}\")"
      ],
      "metadata": {
        "id": "nLSm-uVMSPJZ",
        "colab": {
          "base_uri": "https://localhost:8080/"
        },
        "outputId": "25cad01c-6fa9-4935-dd83-20013d74f986"
      },
      "execution_count": 67,
      "outputs": [
        {
          "output_type": "stream",
          "name": "stdout",
          "text": [
            "Charified text:\n",
            "m o x i f l o x a c i n   i s   e f f e c t i v e   a n d   s a f e   f o r   t r e a t m e n t   o f   c o m m u n i t y - a c q u i r e d   p n e u m o n i a   w i t h   a s p i r a t i o n   f a c t o r s   .\n",
            "Length of random_train_chars: 93\n",
            "Vectorized chars:\n",
            " [[15  7 24  4 17 12  7 24  5 11  4  6  4  9  2 17 17  2 11  3  4 21  2  5\n",
            "   6 10  9  5 17  2 17  7  8  3  8  2  5  3 15  2  6  3  7 17 11  7 15 15\n",
            "  16  6  4  3 19  5 11 26 16  4  8  2 10 14  6  2 16 15  7  6  4  5 20  4\n",
            "   3 13  5  9 14  4  8  5  3  4  7  6 17  5 11  3  7  8  9  0  0  0  0  0\n",
            "   0  0  0  0  0  0  0  0  0  0  0  0  0  0  0  0  0  0  0  0  0  0  0  0\n",
            "   0  0  0  0  0  0  0  0  0  0  0  0  0  0  0  0  0  0  0  0  0  0  0  0\n",
            "   0  0  0  0  0  0  0  0  0  0  0  0  0  0  0  0  0  0  0  0  0  0  0  0\n",
            "   0  0  0  0  0  0  0  0  0  0  0  0  0  0  0  0  0  0  0  0  0  0  0  0\n",
            "   0  0  0  0  0  0  0  0  0  0  0  0  0  0  0  0  0  0  0  0  0  0  0  0\n",
            "   0  0  0  0  0  0  0  0  0  0  0  0  0  0  0  0  0  0  0  0  0  0  0  0\n",
            "   0  0  0  0  0  0  0  0  0  0  0  0  0  0  0  0  0  0  0  0  0  0  0  0\n",
            "   0  0  0  0  0  0  0  0  0  0  0  0  0  0  0  0  0  0  0  0  0  0  0  0\n",
            "   0  0]]\n",
            "\n",
            "Length of vectorized chars: 290\n"
          ]
        }
      ]
    },
    {
      "cell_type": "markdown",
      "source": [
        "### Creating a character-level embedding "
      ],
      "metadata": {
        "id": "uz_iDjb7TIYp"
      }
    },
    {
      "cell_type": "code",
      "source": [
        "# Create char embedding layer\n",
        "char_embed = layers.Embedding(input_dim = len(char_vocab), # Number of different characters\n",
        "                              output_dim = 25,\n",
        "                              name = \"char_embed\")"
      ],
      "metadata": {
        "id": "wuPyGXpMVXgX"
      },
      "execution_count": 68,
      "outputs": []
    },
    {
      "cell_type": "code",
      "source": [
        "# TEst our character embedding layer\n",
        "print(f\"Charified text:\\n {random_train_chars}\\n\")\n",
        "char_embed_example = char_embed(char_vectorizer([random_train_chars]))\n",
        "print(f\"Embedded text:\\n {char_embed_example}\\n\")\n",
        "print(f\"Character embedding shape: {char_embed_example.shape}\")"
      ],
      "metadata": {
        "id": "Ocu-gsOwV5pK",
        "colab": {
          "base_uri": "https://localhost:8080/"
        },
        "outputId": "340bf872-d646-4718-fade-853b85844a74"
      },
      "execution_count": 69,
      "outputs": [
        {
          "output_type": "stream",
          "name": "stdout",
          "text": [
            "Charified text:\n",
            " m o x i f l o x a c i n   i s   e f f e c t i v e   a n d   s a f e   f o r   t r e a t m e n t   o f   c o m m u n i t y - a c q u i r e d   p n e u m o n i a   w i t h   a s p i r a t i o n   f a c t o r s   .\n",
            "\n",
            "Embedded text:\n",
            " [[[-0.02477812 -0.0114848   0.02368461 ...  0.03802298  0.03091041\n",
            "   -0.02388344]\n",
            "  [-0.04874759 -0.045463    0.00309032 ...  0.03424213 -0.01482781\n",
            "    0.03326407]\n",
            "  [-0.01738684 -0.0353958  -0.03800289 ... -0.03261894 -0.01159998\n",
            "   -0.04173955]\n",
            "  ...\n",
            "  [-0.00238433  0.00152272 -0.03831584 ...  0.00685036 -0.00748327\n",
            "    0.00159314]\n",
            "  [-0.00238433  0.00152272 -0.03831584 ...  0.00685036 -0.00748327\n",
            "    0.00159314]\n",
            "  [-0.00238433  0.00152272 -0.03831584 ...  0.00685036 -0.00748327\n",
            "    0.00159314]]]\n",
            "\n",
            "Character embedding shape: (1, 290, 25)\n"
          ]
        }
      ]
    },
    {
      "cell_type": "markdown",
      "source": [
        "### Building a Conv1D model to fit on character embeddings"
      ],
      "metadata": {
        "id": "-JvlBGJ0WRlq"
      }
    },
    {
      "cell_type": "code",
      "source": [
        "# Make Conv1D on chars only\n",
        "inputs = layers.Input(shape = (1,), dtype = tf.string)\n",
        "char_vectors = char_vectorizer(inputs)\n",
        "char_embeddings = char_embed(char_vectors)\n",
        "x = layers.Conv1D(64, kernel_size = 5, padding = \"same\", activation = \"relu\")(char_embeddings)\n",
        "x = layers.GlobalMaxPooling1D()(x)\n",
        "outputs = layers.Dense(num_classes, activation = \"softmax\")(x)\n",
        "model_3 = tf.keras.Model(inputs, outputs, name = \"model_3_conv1d_char_embeddings\")\n",
        "\n",
        "# COmpile the model\n",
        "model_3.compile(loss = \"categorical_crossentropy\",\n",
        "                optimizer = tf.keras.optimizers.Adam(),\n",
        "                metrics = [\"accuracy\"])"
      ],
      "metadata": {
        "id": "3x_a_khKXDrj"
      },
      "execution_count": 70,
      "outputs": []
    },
    {
      "cell_type": "code",
      "source": [
        "# Summary\n",
        "model_3.summary()"
      ],
      "metadata": {
        "id": "feXi4afIX2Rs",
        "colab": {
          "base_uri": "https://localhost:8080/"
        },
        "outputId": "e3c1729b-6946-41ce-93a7-add0eabf75f8"
      },
      "execution_count": 71,
      "outputs": [
        {
          "output_type": "stream",
          "name": "stdout",
          "text": [
            "Model: \"model_3_conv1d_char_embeddings\"\n",
            "_________________________________________________________________\n",
            " Layer (type)                Output Shape              Param #   \n",
            "=================================================================\n",
            " input_3 (InputLayer)        [(None, 1)]               0         \n",
            "                                                                 \n",
            " char_vectorizer (TextVector  (None, 290)              0         \n",
            " ization)                                                        \n",
            "                                                                 \n",
            " char_embed (Embedding)      (None, 290, 25)           700       \n",
            "                                                                 \n",
            " conv1d_1 (Conv1D)           (None, 290, 64)           8064      \n",
            "                                                                 \n",
            " global_max_pooling1d (Globa  (None, 64)               0         \n",
            " lMaxPooling1D)                                                  \n",
            "                                                                 \n",
            " dense_3 (Dense)             (None, 5)                 325       \n",
            "                                                                 \n",
            "=================================================================\n",
            "Total params: 9,089\n",
            "Trainable params: 9,089\n",
            "Non-trainable params: 0\n",
            "_________________________________________________________________\n"
          ]
        }
      ]
    },
    {
      "cell_type": "code",
      "source": [
        "len(val_chars), len(val_labels_one_hot)"
      ],
      "metadata": {
        "id": "nv0gYTPDY0tX",
        "colab": {
          "base_uri": "https://localhost:8080/"
        },
        "outputId": "bd69201f-bd50-44e8-9962-a5672b404d84"
      },
      "execution_count": 72,
      "outputs": [
        {
          "output_type": "execute_result",
          "data": {
            "text/plain": [
              "(30212, 30212)"
            ]
          },
          "metadata": {},
          "execution_count": 72
        }
      ]
    },
    {
      "cell_type": "code",
      "source": [
        "# Create char level datasets\n",
        "train_char_dataset = tf.data.Dataset.from_tensor_slices((train_chars, train_labels_one_hot)).batch(32).prefetch(tf.data.AUTOTUNE)\n",
        "val_char_dataset = tf.data.Dataset.from_tensor_slices((val_chars, val_labels_one_hot)).batch(32).prefetch(tf.data.AUTOTUNE)\n",
        "test_char_dataset = tf.data.Dataset.from_tensor_slices((test_chars, test_labels_one_hot)).batch(32).prefetch(tf.data.AUTOTUNE)\n",
        "\n",
        "train_char_dataset"
      ],
      "metadata": {
        "id": "PGPbVcsNX3p0",
        "colab": {
          "base_uri": "https://localhost:8080/"
        },
        "outputId": "105cfb2a-0750-4a97-8dbb-a5f14a4141e8"
      },
      "execution_count": 73,
      "outputs": [
        {
          "output_type": "execute_result",
          "data": {
            "text/plain": [
              "<PrefetchDataset element_spec=(TensorSpec(shape=(None,), dtype=tf.string, name=None), TensorSpec(shape=(None, 5), dtype=tf.float64, name=None))>"
            ]
          },
          "metadata": {},
          "execution_count": 73
        }
      ]
    },
    {
      "cell_type": "code",
      "source": [
        "# Fit the model\n",
        "model_3_history = model_3.fit(train_char_dataset,\n",
        "                              steps_per_epoch = int(0.1 * len(train_char_dataset)),\n",
        "                              epochs = 3,\n",
        "                              validation_data = val_char_dataset,\n",
        "                              validation_steps = int(0.1 * len(val_char_dataset)))"
      ],
      "metadata": {
        "id": "tmgFNc0lYr3P",
        "colab": {
          "base_uri": "https://localhost:8080/"
        },
        "outputId": "72d67dac-ab15-4ce6-9a67-95f55b8b55f8"
      },
      "execution_count": 74,
      "outputs": [
        {
          "output_type": "stream",
          "name": "stdout",
          "text": [
            "Epoch 1/3\n",
            "562/562 [==============================] - 4s 6ms/step - loss: 1.2767 - accuracy: 0.4863 - val_loss: 1.0411 - val_accuracy: 0.5874\n",
            "Epoch 2/3\n",
            "562/562 [==============================] - 3s 5ms/step - loss: 0.9989 - accuracy: 0.6025 - val_loss: 0.9406 - val_accuracy: 0.6250\n",
            "Epoch 3/3\n",
            "562/562 [==============================] - 3s 5ms/step - loss: 0.9226 - accuracy: 0.6382 - val_loss: 0.8661 - val_accuracy: 0.6632\n"
          ]
        }
      ]
    },
    {
      "cell_type": "code",
      "source": [
        "# Make predictions\n",
        "model_3_pred_probs = model_3.predict(val_char_dataset)\n",
        "model_3_preds = tf.argmax(model_3_pred_probs, axis = 1)\n",
        "model_3_preds"
      ],
      "metadata": {
        "id": "j9P-SwWgZRo0",
        "colab": {
          "base_uri": "https://localhost:8080/"
        },
        "outputId": "90773f51-de5e-4de7-f5a4-1336565fde30"
      },
      "execution_count": 75,
      "outputs": [
        {
          "output_type": "stream",
          "name": "stdout",
          "text": [
            "945/945 [==============================] - 2s 3ms/step\n"
          ]
        },
        {
          "output_type": "execute_result",
          "data": {
            "text/plain": [
              "<tf.Tensor: shape=(30212,), dtype=int64, numpy=array([1, 1, 2, ..., 4, 4, 1])>"
            ]
          },
          "metadata": {},
          "execution_count": 75
        }
      ]
    },
    {
      "cell_type": "code",
      "source": [
        "# Calculate results for Conv1D model chars only\n",
        "model_3_results = calculate_results(val_labels_encoded,\n",
        "                                    model_3_preds)\n",
        "model_3_results"
      ],
      "metadata": {
        "id": "AjLiXhS2Zr_-",
        "colab": {
          "base_uri": "https://localhost:8080/"
        },
        "outputId": "1860edca-7c35-4ac9-a04a-99a914cd6bf2"
      },
      "execution_count": 76,
      "outputs": [
        {
          "output_type": "execute_result",
          "data": {
            "text/plain": [
              "{'accuracy': 65.77187872368594,\n",
              " 'precision': 0.6498782558836989,\n",
              " 'recall': 0.6577187872368595,\n",
              " 'f1': 0.6472307010780985}"
            ]
          },
          "metadata": {},
          "execution_count": 76
        }
      ]
    },
    {
      "cell_type": "markdown",
      "source": [
        "## Model 4: Combining pretrained token embeddings + characters embedding (hybrid)\n",
        "\n",
        "1. Create a token-level embedding model (similar to `model_1`)\n",
        "2. Create a character-level model(similar to `model_3` with a slight modification)\n",
        "3. Combine 1 & 2 with a concatenate (`layers.Concatenate`)\n",
        "4. Build a series of output layers on top of 3\n",
        "5. Construct a model which takes token and character-level sequences as input and produces sequence label probabilities as output"
      ],
      "metadata": {
        "id": "crhF6FWxZ18m"
      }
    },
    {
      "cell_type": "code",
      "source": [
        "# 1. Setup token inputs/model\n",
        "token_inputs = layers.Input(shape = [], dtype = \"string\", name = \"token_input\")\n",
        "token_embeddings = tf_hub_embedding_layer(token_inputs)\n",
        "token_outputs = layers.Dense(128, activation = \"relu\")(token_embeddings)\n",
        "token_model = tf.keras.Model(inputs = token_inputs, outputs = token_outputs)\n",
        "\n",
        "# 2. Setup char inputs/model\n",
        "char_inputs = layers.Input(shape = (1,), dtype = tf.string, name = \"char_input\")\n",
        "char_vectors = char_vectorizer(char_inputs)\n",
        "char_embeddings = char_embed(char_vectors)\n",
        "char_bi_lstm = layers.Bidirectional(layers.LSTM(24))(char_embeddings) # Bi-LSTM\n",
        "char_model = tf.keras.Model(inputs = char_inputs, outputs = char_bi_lstm)\n",
        "\n",
        "# 3. Concatenate token and char inputs (create hybrid token embedding)\n",
        "token_char_concat = layers.Concatenate(name = \"token_char_hybrid\")([token_model.output, char_model.output])\n",
        "\n",
        "# 4. Create output layers - adding in Dropout\n",
        "combined_dropout = layers.Dropout(0.5)(token_char_concat)\n",
        "combined_dense = layers.Dense(128, activation=\"relu\")(combined_dropout)\n",
        "final_dropout = layers.Dropout(0.5)(combined_dense)\n",
        "output_layer = layers.Dense(num_classes, activation = \"softmax\")(final_dropout)\n",
        "\n",
        "# 5. Construct model with char and token inputs\n",
        "model_4 = tf.keras.Model(inputs=[token_model.input,\n",
        "                                   char_model.input],\n",
        "                         outputs=[output_layer],\n",
        "                         name = \"model_4_token_and_char_embeddings\")"
      ],
      "metadata": {
        "id": "gkPWdupchjHl"
      },
      "execution_count": 77,
      "outputs": []
    },
    {
      "cell_type": "code",
      "source": [
        "# Get a summary\n",
        "model_4.summary()"
      ],
      "metadata": {
        "id": "G_vAmCzxk4Gg",
        "colab": {
          "base_uri": "https://localhost:8080/"
        },
        "outputId": "c21314da-03e5-4c35-9d20-a4914ed8cbf9"
      },
      "execution_count": 78,
      "outputs": [
        {
          "output_type": "stream",
          "name": "stdout",
          "text": [
            "Model: \"model_4_token_and_char_embeddings\"\n",
            "__________________________________________________________________________________________________\n",
            " Layer (type)                   Output Shape         Param #     Connected to                     \n",
            "==================================================================================================\n",
            " char_input (InputLayer)        [(None, 1)]          0           []                               \n",
            "                                                                                                  \n",
            " token_input (InputLayer)       [(None,)]            0           []                               \n",
            "                                                                                                  \n",
            " char_vectorizer (TextVectoriza  (None, 290)         0           ['char_input[0][0]']             \n",
            " tion)                                                                                            \n",
            "                                                                                                  \n",
            " universal_sentence_encoder (Ke  (None, 512)         256797824   ['token_input[0][0]']            \n",
            " rasLayer)                                                                                        \n",
            "                                                                                                  \n",
            " char_embed (Embedding)         (None, 290, 25)      700         ['char_vectorizer[1][0]']        \n",
            "                                                                                                  \n",
            " dense_4 (Dense)                (None, 128)          65664       ['universal_sentence_encoder[1][0\n",
            "                                                                 ]']                              \n",
            "                                                                                                  \n",
            " bidirectional (Bidirectional)  (None, 48)           9600        ['char_embed[1][0]']             \n",
            "                                                                                                  \n",
            " token_char_hybrid (Concatenate  (None, 176)         0           ['dense_4[0][0]',                \n",
            " )                                                                'bidirectional[0][0]']          \n",
            "                                                                                                  \n",
            " dropout (Dropout)              (None, 176)          0           ['token_char_hybrid[0][0]']      \n",
            "                                                                                                  \n",
            " dense_5 (Dense)                (None, 128)          22656       ['dropout[0][0]']                \n",
            "                                                                                                  \n",
            " dropout_1 (Dropout)            (None, 128)          0           ['dense_5[0][0]']                \n",
            "                                                                                                  \n",
            " dense_6 (Dense)                (None, 5)            645         ['dropout_1[0][0]']              \n",
            "                                                                                                  \n",
            "==================================================================================================\n",
            "Total params: 256,897,089\n",
            "Trainable params: 99,265\n",
            "Non-trainable params: 256,797,824\n",
            "__________________________________________________________________________________________________\n"
          ]
        }
      ]
    },
    {
      "cell_type": "code",
      "source": [
        "# Plot hybrid token and character model\n",
        "from keras.utils.vis_utils import plot_model\n",
        "plot_model(model_4, show_shapes=True)"
      ],
      "metadata": {
        "id": "kqaFpUFMlG1d",
        "colab": {
          "base_uri": "https://localhost:8080/",
          "height": 976
        },
        "outputId": "ff9d5730-fb54-4a12-a93a-86902f980020"
      },
      "execution_count": 79,
      "outputs": [
        {
          "output_type": "execute_result",
          "data": {
            "image/png": "[encoded data removed]",
            "text/plain": [
              "<IPython.core.display.Image object>"
            ]
          },
          "metadata": {},
          "execution_count": 79
        }
      ]
    },
    {
      "cell_type": "code",
      "source": [
        "model_4.compile(loss=\"categorical_crossentropy\",\n",
        "                optimizer=tf.keras.optimizers.Adam(),\n",
        "                metrics=[\"accuracy\"])"
      ],
      "metadata": {
        "id": "Bg5n63tkliT0"
      },
      "execution_count": 80,
      "outputs": []
    },
    {
      "cell_type": "markdown",
      "source": [
        "### Combining token and character data into a tf.data.Dataset"
      ],
      "metadata": {
        "id": "Kvj7gdrDm7qB"
      }
    },
    {
      "cell_type": "code",
      "source": [
        "# Combine chars and tokens into a dataset\n",
        "train_char_token_data = tf.data.Dataset.from_tensor_slices((train_sentences, train_chars)) # Make data\n",
        "train_char_token_labels = tf.data.Dataset.from_tensor_slices(train_labels_one_hot) # Make labels\n",
        "train_char_token_dataset = tf.data.Dataset.zip((train_char_token_data, train_char_token_labels)) # Combine data and labels \n",
        "\n",
        "# Prefetch and batch train data\n",
        "train_char_token_dataset = train_char_token_dataset.batch(32).prefetch(tf.data.AUTOTUNE)\n",
        "\n",
        "# combine validation and test\n",
        "val_char_token_data = tf.data.Dataset.from_tensor_slices((val_sentences, val_chars))\n",
        "val_char_token_labels = tf.data.Dataset.from_tensor_slices(val_labels_one_hot)\n",
        "val_char_token_dataset = tf.data.Dataset.zip((val_char_token_data, val_char_token_labels)).batch(32).prefetch(tf.data.AUTOTUNE)"
      ],
      "metadata": {
        "id": "pPHHuenG2Rdc"
      },
      "execution_count": 81,
      "outputs": []
    },
    {
      "cell_type": "code",
      "source": [
        "# Check out our training char and token embedding dataset\n",
        "train_char_token_dataset, val_char_token_dataset"
      ],
      "metadata": {
        "id": "Pgi2WheR3rql",
        "colab": {
          "base_uri": "https://localhost:8080/"
        },
        "outputId": "b56a8daa-3dd4-4512-f5fb-ad1a98cf6ea0"
      },
      "execution_count": 82,
      "outputs": [
        {
          "output_type": "execute_result",
          "data": {
            "text/plain": [
              "(<PrefetchDataset element_spec=((TensorSpec(shape=(None,), dtype=tf.string, name=None), TensorSpec(shape=(None,), dtype=tf.string, name=None)), TensorSpec(shape=(None, 5), dtype=tf.float64, name=None))>,\n",
              " <PrefetchDataset element_spec=((TensorSpec(shape=(None,), dtype=tf.string, name=None), TensorSpec(shape=(None,), dtype=tf.string, name=None)), TensorSpec(shape=(None, 5), dtype=tf.float64, name=None))>)"
            ]
          },
          "metadata": {},
          "execution_count": 82
        }
      ]
    },
    {
      "cell_type": "code",
      "source": [
        "history_model_4 = model_4.fit(train_char_token_dataset,\n",
        "                              epochs = 3,\n",
        "                              steps_per_epoch=int(0.1 * len(train_char_token_dataset)),\n",
        "                              validation_data=val_char_token_dataset,\n",
        "                              validation_steps=int(0.1 * len(val_char_token_dataset)))"
      ],
      "metadata": {
        "id": "JP38A4Sn3zWi",
        "colab": {
          "base_uri": "https://localhost:8080/"
        },
        "outputId": "01f9efc0-ebe2-4c0f-e5aa-16ba8d88c508"
      },
      "execution_count": 83,
      "outputs": [
        {
          "output_type": "stream",
          "name": "stdout",
          "text": [
            "Epoch 1/3\n",
            "562/562 [==============================] - 24s 34ms/step - loss: 0.9953 - accuracy: 0.5997 - val_loss: 0.7950 - val_accuracy: 0.6971\n",
            "Epoch 2/3\n",
            "562/562 [==============================] - 18s 32ms/step - loss: 0.8126 - accuracy: 0.6876 - val_loss: 0.7280 - val_accuracy: 0.7267\n",
            "Epoch 3/3\n",
            "562/562 [==============================] - 18s 32ms/step - loss: 0.7781 - accuracy: 0.7013 - val_loss: 0.6935 - val_accuracy: 0.7350\n"
          ]
        }
      ]
    },
    {
      "cell_type": "code",
      "source": [
        "# Evaluate on the whole validation dataset\n",
        "model_4.evaluate(val_char_token_dataset)"
      ],
      "metadata": {
        "id": "wsOEZsu14rUy",
        "colab": {
          "base_uri": "https://localhost:8080/"
        },
        "outputId": "0b5c8821-6b13-46fc-f737-bb6a57b39779"
      },
      "execution_count": 84,
      "outputs": [
        {
          "output_type": "stream",
          "name": "stdout",
          "text": [
            "945/945 [==============================] - 19s 20ms/step - loss: 0.6986 - accuracy: 0.7318\n"
          ]
        },
        {
          "output_type": "execute_result",
          "data": {
            "text/plain": [
              "[0.6986274123191833, 0.7317953109741211]"
            ]
          },
          "metadata": {},
          "execution_count": 84
        }
      ]
    },
    {
      "cell_type": "code",
      "source": [
        "# Make predictions using model 4\n",
        "model_4_preds = tf.argmax(model_4.predict(val_char_token_dataset), axis = 1)\n",
        "\n",
        "# Calculate results\n",
        "model_4_results = calculate_results(val_labels_encoded,\n",
        "                                    model_4_preds)\n",
        "model_4_results"
      ],
      "metadata": {
        "id": "UHRKe8MU5yJ1",
        "colab": {
          "base_uri": "https://localhost:8080/"
        },
        "outputId": "249ee058-556c-44d8-b78f-99796e1cd6e0"
      },
      "execution_count": 85,
      "outputs": [
        {
          "output_type": "stream",
          "name": "stdout",
          "text": [
            "945/945 [==============================] - 19s 19ms/step\n"
          ]
        },
        {
          "output_type": "execute_result",
          "data": {
            "text/plain": [
              "{'accuracy': 73.17953131206143,\n",
              " 'precision': 0.7320979013501234,\n",
              " 'recall': 0.7317953131206143,\n",
              " 'f1': 0.7288341308736039}"
            ]
          },
          "metadata": {},
          "execution_count": 85
        }
      ]
    },
    {
      "cell_type": "markdown",
      "source": [
        "## Model 5: Transfer Learning with pretrained token embeddings + character embeddings + positional embeddings"
      ],
      "metadata": {
        "id": "hBEJM3YY6LQW"
      }
    },
    {
      "cell_type": "code",
      "source": [
        "train_df.head()"
      ],
      "metadata": {
        "id": "HihMGDMQ8gp9",
        "colab": {
          "base_uri": "https://localhost:8080/",
          "height": 206
        },
        "outputId": "40081c2e-afd4-4d4b-a8cc-3e7bd7bdac0d"
      },
      "execution_count": 86,
      "outputs": [
        {
          "output_type": "execute_result",
          "data": {
            "text/plain": [
              "      target                                               text  line_number  \\\n",
              "0  OBJECTIVE  to investigate the efficacy of @ weeks of dail...            0   \n",
              "1    METHODS  a total of @ patients with primary knee oa wer...            1   \n",
              "2    METHODS  outcome measures included pain reduction and i...            2   \n",
              "3    METHODS  pain was assessed using the visual analog pain...            3   \n",
              "4    METHODS  secondary outcome measures included the wester...            4   \n",
              "\n",
              "   total_lines  \n",
              "0           11  \n",
              "1           11  \n",
              "2           11  \n",
              "3           11  \n",
              "4           11  "
            ],
            "text/html": [
              "\n",
              "  <div id=\"df-e7e1200a-fa5b-425d-bf6d-cb45f7beb93d\">\n",
              "    <div class=\"colab-df-container\">\n",
              "      <div>\n",
              "<style scoped>\n",
              "    .dataframe tbody tr th:only-of-type {\n",
              "        vertical-align: middle;\n",
              "    }\n",
              "\n",
              "    .dataframe tbody tr th {\n",
              "        vertical-align: top;\n",
              "    }\n",
              "\n",
              "    .dataframe thead th {\n",
              "        text-align: right;\n",
              "    }\n",
              "</style>\n",
              "<table border=\"1\" class=\"dataframe\">\n",
              "  <thead>\n",
              "    <tr style=\"text-align: right;\">\n",
              "      <th></th>\n",
              "      <th>target</th>\n",
              "      <th>text</th>\n",
              "      <th>line_number</th>\n",
              "      <th>total_lines</th>\n",
              "    </tr>\n",
              "  </thead>\n",
              "  <tbody>\n",
              "    <tr>\n",
              "      <th>0</th>\n",
              "      <td>OBJECTIVE</td>\n",
              "      <td>to investigate the efficacy of @ weeks of dail...</td>\n",
              "      <td>0</td>\n",
              "      <td>11</td>\n",
              "    </tr>\n",
              "    <tr>\n",
              "      <th>1</th>\n",
              "      <td>METHODS</td>\n",
              "      <td>a total of @ patients with primary knee oa wer...</td>\n",
              "      <td>1</td>\n",
              "      <td>11</td>\n",
              "    </tr>\n",
              "    <tr>\n",
              "      <th>2</th>\n",
              "      <td>METHODS</td>\n",
              "      <td>outcome measures included pain reduction and i...</td>\n",
              "      <td>2</td>\n",
              "      <td>11</td>\n",
              "    </tr>\n",
              "    <tr>\n",
              "      <th>3</th>\n",
              "      <td>METHODS</td>\n",
              "      <td>pain was assessed using the visual analog pain...</td>\n",
              "      <td>3</td>\n",
              "      <td>11</td>\n",
              "    </tr>\n",
              "    <tr>\n",
              "      <th>4</th>\n",
              "      <td>METHODS</td>\n",
              "      <td>secondary outcome measures included the wester...</td>\n",
              "      <td>4</td>\n",
              "      <td>11</td>\n",
              "    </tr>\n",
              "  </tbody>\n",
              "</table>\n",
              "</div>\n",
              "      <button class=\"colab-df-convert\" onclick=\"convertToInteractive('df-e7e1200a-fa5b-425d-bf6d-cb45f7beb93d')\"\n",
              "              title=\"Convert this dataframe to an interactive table.\"\n",
              "              style=\"display:none;\">\n",
              "        \n",
              "  <svg xmlns=\"http://www.w3.org/2000/svg\" height=\"24px\"viewBox=\"0 0 24 24\"\n",
              "       width=\"24px\">\n",
              "    <path d=\"M0 0h24v24H0V0z\" fill=\"none\"/>\n",
              "    <path d=\"M18.56 5.44l.94 2.06.94-2.06 2.06-.94-2.06-.94-.94-2.06-.94 2.06-2.06.94zm-11 1L8.5 8.5l.94-2.06 2.06-.94-2.06-.94L8.5 2.5l-.94 2.06-2.06.94zm10 10l.94 2.06.94-2.06 2.06-.94-2.06-.94-.94-2.06-.94 2.06-2.06.94z\"/><path d=\"M17.41 7.96l-1.37-1.37c-.4-.4-.92-.59-1.43-.59-.52 0-1.04.2-1.43.59L10.3 9.45l-7.72 7.72c-.78.78-.78 2.05 0 2.83L4 21.41c.39.39.9.59 1.41.59.51 0 1.02-.2 1.41-.59l7.78-7.78 2.81-2.81c.8-.78.8-2.07 0-2.86zM5.41 20L4 18.59l7.72-7.72 1.47 1.35L5.41 20z\"/>\n",
              "  </svg>\n",
              "      </button>\n",
              "      \n",
              "  <style>\n",
              "    .colab-df-container {\n",
              "      display:flex;\n",
              "      flex-wrap:wrap;\n",
              "      gap: 12px;\n",
              "    }\n",
              "\n",
              "    .colab-df-convert {\n",
              "      background-color: #E8F0FE;\n",
              "      border: none;\n",
              "      border-radius: 50%;\n",
              "      cursor: pointer;\n",
              "      display: none;\n",
              "      fill: #1967D2;\n",
              "      height: 32px;\n",
              "      padding: 0 0 0 0;\n",
              "      width: 32px;\n",
              "    }\n",
              "\n",
              "    .colab-df-convert:hover {\n",
              "      background-color: #E2EBFA;\n",
              "      box-shadow: 0px 1px 2px rgba(60, 64, 67, 0.3), 0px 1px 3px 1px rgba(60, 64, 67, 0.15);\n",
              "      fill: #174EA6;\n",
              "    }\n",
              "\n",
              "    [theme=dark] .colab-df-convert {\n",
              "      background-color: #3B4455;\n",
              "      fill: #D2E3FC;\n",
              "    }\n",
              "\n",
              "    [theme=dark] .colab-df-convert:hover {\n",
              "      background-color: #434B5C;\n",
              "      box-shadow: 0px 1px 3px 1px rgba(0, 0, 0, 0.15);\n",
              "      filter: drop-shadow(0px 1px 2px rgba(0, 0, 0, 0.3));\n",
              "      fill: #FFFFFF;\n",
              "    }\n",
              "  </style>\n",
              "\n",
              "      <script>\n",
              "        const buttonEl =\n",
              "          document.querySelector('#df-e7e1200a-fa5b-425d-bf6d-cb45f7beb93d button.colab-df-convert');\n",
              "        buttonEl.style.display =\n",
              "          google.colab.kernel.accessAllowed ? 'block' : 'none';\n",
              "\n",
              "        async function convertToInteractive(key) {\n",
              "          const element = document.querySelector('#df-e7e1200a-fa5b-425d-bf6d-cb45f7beb93d');\n",
              "          const dataTable =\n",
              "            await google.colab.kernel.invokeFunction('convertToInteractive',\n",
              "                                                     [key], {});\n",
              "          if (!dataTable) return;\n",
              "\n",
              "          const docLinkHtml = 'Like what you see? Visit the ' +\n",
              "            '<a target=\"_blank\" href=https://colab.research.google.com/notebooks/data_table.ipynb>data table notebook</a>'\n",
              "            + ' to learn more about interactive tables.';\n",
              "          element.innerHTML = '';\n",
              "          dataTable['output_type'] = 'display_data';\n",
              "          await google.colab.output.renderOutput(dataTable, element);\n",
              "          const docLink = document.createElement('div');\n",
              "          docLink.innerHTML = docLinkHtml;\n",
              "          element.appendChild(docLink);\n",
              "        }\n",
              "      </script>\n",
              "    </div>\n",
              "  </div>\n",
              "  "
            ]
          },
          "metadata": {},
          "execution_count": 86
        }
      ]
    },
    {
      "cell_type": "markdown",
      "source": [
        "> **Note:** Any engineered features used to train a model need to be available at test time. In our case, line numbers and total lines are available."
      ],
      "metadata": {
        "id": "XBtDnAIn8hZp"
      }
    },
    {
      "cell_type": "markdown",
      "source": [
        "### Create positional embeddings "
      ],
      "metadata": {
        "id": "ZWuttIFc_NKV"
      }
    },
    {
      "cell_type": "code",
      "source": [
        "# How many different line numbers are there?\n",
        "train_df[\"line_number\"].value_counts()"
      ],
      "metadata": {
        "id": "aNzoRMll_RwY",
        "colab": {
          "base_uri": "https://localhost:8080/"
        },
        "outputId": "0e566a49-17dc-4724-94ce-6b4148442106"
      },
      "execution_count": 87,
      "outputs": [
        {
          "output_type": "execute_result",
          "data": {
            "text/plain": [
              "0     15000\n",
              "1     15000\n",
              "2     15000\n",
              "3     15000\n",
              "4     14992\n",
              "5     14949\n",
              "6     14758\n",
              "7     14279\n",
              "8     13346\n",
              "9     11981\n",
              "10    10041\n",
              "11     7892\n",
              "12     5853\n",
              "13     4152\n",
              "14     2835\n",
              "15     1861\n",
              "16     1188\n",
              "17      751\n",
              "18      462\n",
              "19      286\n",
              "20      162\n",
              "21      101\n",
              "22       66\n",
              "23       33\n",
              "24       22\n",
              "25       14\n",
              "26        7\n",
              "27        4\n",
              "28        3\n",
              "29        1\n",
              "30        1\n",
              "Name: line_number, dtype: int64"
            ]
          },
          "metadata": {},
          "execution_count": 87
        }
      ]
    },
    {
      "cell_type": "code",
      "source": [
        "# Check the fistribution of line number column\n",
        "train_df.line_number.plot.hist();"
      ],
      "metadata": {
        "id": "7vYyZ01e_d4y",
        "colab": {
          "base_uri": "https://localhost:8080/",
          "height": 265
        },
        "outputId": "db3ae510-e065-4003-eb2a-83010757996c"
      },
      "execution_count": 88,
      "outputs": [
        {
          "output_type": "display_data",
          "data": {
            "text/plain": [
              "<Figure size 432x288 with 1 Axes>"
            ],
            "image/png": "[encoded data removed]"
          },
          "metadata": {
            "needs_background": "light"
          }
        }
      ]
    },
    {
      "cell_type": "code",
      "source": [
        "# Use TensorFlow to create one-hot-encoded tensors of our \"line_number\" column\n",
        "train_line_numbers_one_hot = tf.one_hot(train_df[\"line_number\"].to_numpy(), depth = 15)\n",
        "val_line_numbers_one_hot = tf.one_hot(val_df[\"line_number\"].to_numpy(), depth = 15)\n",
        "test_line_numbers_one_hot = tf.one_hot(test_df[\"line_number\"].to_numpy(), depth = 15) \n",
        "train_line_numbers_one_hot[:10], train_line_numbers_one_hot.shape"
      ],
      "metadata": {
        "id": "e_oaHor7_3_G",
        "colab": {
          "base_uri": "https://localhost:8080/"
        },
        "outputId": "6864acc1-45d4-4d2e-93ce-7202c84acb88"
      },
      "execution_count": 89,
      "outputs": [
        {
          "output_type": "execute_result",
          "data": {
            "text/plain": [
              "(<tf.Tensor: shape=(10, 15), dtype=float32, numpy=\n",
              " array([[1., 0., 0., 0., 0., 0., 0., 0., 0., 0., 0., 0., 0., 0., 0.],\n",
              "        [0., 1., 0., 0., 0., 0., 0., 0., 0., 0., 0., 0., 0., 0., 0.],\n",
              "        [0., 0., 1., 0., 0., 0., 0., 0., 0., 0., 0., 0., 0., 0., 0.],\n",
              "        [0., 0., 0., 1., 0., 0., 0., 0., 0., 0., 0., 0., 0., 0., 0.],\n",
              "        [0., 0., 0., 0., 1., 0., 0., 0., 0., 0., 0., 0., 0., 0., 0.],\n",
              "        [0., 0., 0., 0., 0., 1., 0., 0., 0., 0., 0., 0., 0., 0., 0.],\n",
              "        [0., 0., 0., 0., 0., 0., 1., 0., 0., 0., 0., 0., 0., 0., 0.],\n",
              "        [0., 0., 0., 0., 0., 0., 0., 1., 0., 0., 0., 0., 0., 0., 0.],\n",
              "        [0., 0., 0., 0., 0., 0., 0., 0., 1., 0., 0., 0., 0., 0., 0.],\n",
              "        [0., 0., 0., 0., 0., 0., 0., 0., 0., 1., 0., 0., 0., 0., 0.]],\n",
              "       dtype=float32)>, TensorShape([180040, 15]))"
            ]
          },
          "metadata": {},
          "execution_count": 89
        }
      ]
    },
    {
      "cell_type": "markdown",
      "source": [
        "Now we've encoded our line numbers feature, let's do the same for out total lines number"
      ],
      "metadata": {
        "id": "k11L1e1QBEYS"
      }
    },
    {
      "cell_type": "code",
      "source": [
        "train_df[\"total_lines\"].value_counts()"
      ],
      "metadata": {
        "id": "5sZuM0IQAbDb",
        "colab": {
          "base_uri": "https://localhost:8080/"
        },
        "outputId": "c24969d0-33bb-4fb6-9d14-664f0171a356"
      },
      "execution_count": 90,
      "outputs": [
        {
          "output_type": "execute_result",
          "data": {
            "text/plain": [
              "11    24468\n",
              "10    23639\n",
              "12    22113\n",
              "9     19400\n",
              "13    18438\n",
              "14    14610\n",
              "8     12285\n",
              "15    10768\n",
              "7      7464\n",
              "16     7429\n",
              "17     5202\n",
              "6      3353\n",
              "18     3344\n",
              "19     2480\n",
              "20     1281\n",
              "5      1146\n",
              "21      770\n",
              "22      759\n",
              "23      264\n",
              "4       215\n",
              "24      200\n",
              "25      182\n",
              "26       81\n",
              "28       58\n",
              "3        32\n",
              "30       31\n",
              "27       28\n",
              "Name: total_lines, dtype: int64"
            ]
          },
          "metadata": {},
          "execution_count": 90
        }
      ]
    },
    {
      "cell_type": "code",
      "source": [
        "train_df.total_lines.plot.hist();"
      ],
      "metadata": {
        "id": "ALO8wjZUA9Fo",
        "colab": {
          "base_uri": "https://localhost:8080/",
          "height": 267
        },
        "outputId": "2b0d0bba-569c-4b05-cfbf-ed5f57b613ae"
      },
      "execution_count": 91,
      "outputs": [
        {
          "output_type": "display_data",
          "data": {
            "text/plain": [
              "<Figure size 432x288 with 1 Axes>"
            ],
            "image/png": "[encoded data removed]"
          },
          "metadata": {
            "needs_background": "light"
          }
        }
      ]
    },
    {
      "cell_type": "code",
      "source": [
        "# Check the 95th percentile\n",
        "np.percentile(train_df[\"total_lines\"].to_numpy(), 95)"
      ],
      "metadata": {
        "id": "FC1oRS_pBAvf",
        "colab": {
          "base_uri": "https://localhost:8080/"
        },
        "outputId": "216eb6f3-9a50-4e26-c10f-b5aa5c33e8dd"
      },
      "execution_count": 92,
      "outputs": [
        {
          "output_type": "execute_result",
          "data": {
            "text/plain": [
              "18.0"
            ]
          },
          "metadata": {},
          "execution_count": 92
        }
      ]
    },
    {
      "cell_type": "code",
      "source": [
        "# Use TensorFlow one hot\n",
        "train_total_lines_one_hot = tf.one_hot(train_df[\"total_lines\"].to_numpy(), depth = 20)\n",
        "val_total_lines_one_hot = tf.one_hot(val_df[\"total_lines\"].to_numpy(), depth = 20)\n",
        "test_total_lines_one_hot = tf.one_hot(test_df[\"total_lines\"].to_numpy(), depth = 20)"
      ],
      "metadata": {
        "id": "btLZdZa5BQRf"
      },
      "execution_count": 93,
      "outputs": []
    },
    {
      "cell_type": "markdown",
      "source": [
        "### Building a tribrid embedding model\n",
        "\n",
        "1. Create a token-level model\n",
        "2. Create a character-level model\n",
        "3. Create a model for the \"line_number\" feature\n",
        "4. Create a model for the \"total_lines\" feature\n",
        "5. Combine the outputs of 1 & 2 using tf.keras.layers.Concatenate\n",
        "6. Combine the outputs of 3, 4, & 5 using tf.keras.layers.Concatenate\n",
        "7. Create an output layer to accept the tribrid embedding and output label probabilities\n",
        "8. Combine the inputs of 1, 2, 3, 4, and outputs of 7 into a tf.keras.Model"
      ],
      "metadata": {
        "id": "tJ1U8Um4CPyp"
      }
    },
    {
      "cell_type": "code",
      "source": [
        "train_total_lines_one_hot[0].dtype"
      ],
      "metadata": {
        "id": "ch0h5_chFGrW",
        "colab": {
          "base_uri": "https://localhost:8080/"
        },
        "outputId": "68e33231-2da6-4955-e456-32ffc9a46cee"
      },
      "execution_count": 94,
      "outputs": [
        {
          "output_type": "execute_result",
          "data": {
            "text/plain": [
              "tf.float32"
            ]
          },
          "metadata": {},
          "execution_count": 94
        }
      ]
    },
    {
      "cell_type": "code",
      "source": [
        "# 1. Token inputs\n",
        "token_inputs = layers.Input(shape = [], dtype = \"string\", name = \"token_inputs\")\n",
        "token_embeddings = tf_hub_embedding_layer(token_inputs)\n",
        "token_outputs = layers.Dense(128, activation = \"relu\")(token_embeddings)\n",
        "token_model = tf.keras.Model(token_inputs, token_outputs)\n",
        "\n",
        "# 2. Character inputs\n",
        "char_inputs = layers.Input(shape = (1,), dtype = \"string\", name = \"char_inputs\")\n",
        "char_vectors = char_vectorizer(char_inputs)\n",
        "char_embeddings = char_embed(char_vectors)\n",
        "char_bi_lstm = layers.Bidirectional(layers.LSTM(24, name=\"lstm_layer\"), name=\"bi-lstm_layer\")(char_embeddings)\n",
        "char_model = tf.keras.Model(char_inputs, char_bi_lstm)\n",
        "\n",
        "# 3. Line_number feature model\n",
        "line_number_inputs = layers.Input(shape=(15,), dtype=tf.float32, name=\"line_number_inputs\")\n",
        "x = layers.Dense(32, activation=\"relu\")(line_number_inputs)\n",
        "line_number_model = tf.keras.Model(line_number_inputs, x)\n",
        "\n",
        "# 4. Total_lines feature model\n",
        "total_lines_inputs = layers.Input(shape=(20,), dtype=tf.float32, name=\"total_lines_inputs\")\n",
        "y = layers.Dense(32, activation=\"relu\")(total_lines_inputs)\n",
        "total_lines_model = tf.keras.Model(total_lines_inputs, y)\n",
        "\n",
        "# 5. Combine the outputs of 1 & 2 using tf.keras.layers.Concatenate\n",
        "combined_embeddings = layers.Concatenate(name=\"char_token_hybrid_embedding\")([token_model.output,\n",
        "                                                                              char_model.output])\n",
        "\n",
        "z = layers.Dense(256, activation=\"relu\")(combined_embeddings)\n",
        "z = layers.Dropout(0.5)(z)\n",
        "\n",
        "# 6. Combine the outputs of 3, 4, and 5 using layers.Concatenate\n",
        "tribrid_embeddings = layers.Concatenate(name=\"char-token_positional_embedding\")([line_number_model.output,\n",
        "                                                                                 total_lines_model.output,\n",
        "                                                                                 z])\n",
        "\n",
        "# 7. Create an output layers to accept the tribrid embedding and output label probabilities\n",
        "output_layer = layers.Dense(5, activation=\"softmax\", name=\"output_layer\")(tribrid_embeddings)\n",
        "\n",
        "# 8. Put together model with all kinds of inputs\n",
        "model_5 = tf.keras.Model(inputs=[token_inputs,\n",
        "                                 char_inputs,\n",
        "                                 line_number_inputs,\n",
        "                                 total_lines_inputs],\n",
        "                         outputs=output_layer, name=\"tribrid_embedding_model\")"
      ],
      "metadata": {
        "id": "zCzAStS3DMOc"
      },
      "execution_count": 95,
      "outputs": []
    },
    {
      "cell_type": "code",
      "source": [
        "# Get a summary of our tribrid embedding model\n",
        "model_5.summary()"
      ],
      "metadata": {
        "id": "XOUqSnIqG8Ec",
        "colab": {
          "base_uri": "https://localhost:8080/"
        },
        "outputId": "c670decb-4c44-46f2-eef0-bceb81e7b410"
      },
      "execution_count": 96,
      "outputs": [
        {
          "output_type": "stream",
          "name": "stdout",
          "text": [
            "Model: \"tribrid_embedding_model\"\n",
            "__________________________________________________________________________________________________\n",
            " Layer (type)                   Output Shape         Param #     Connected to                     \n",
            "==================================================================================================\n",
            " char_inputs (InputLayer)       [(None, 1)]          0           []                               \n",
            "                                                                                                  \n",
            " token_inputs (InputLayer)      [(None,)]            0           []                               \n",
            "                                                                                                  \n",
            " char_vectorizer (TextVectoriza  (None, 290)         0           ['char_inputs[0][0]']            \n",
            " tion)                                                                                            \n",
            "                                                                                                  \n",
            " universal_sentence_encoder (Ke  (None, 512)         256797824   ['token_inputs[0][0]']           \n",
            " rasLayer)                                                                                        \n",
            "                                                                                                  \n",
            " char_embed (Embedding)         (None, 290, 25)      700         ['char_vectorizer[2][0]']        \n",
            "                                                                                                  \n",
            " dense_7 (Dense)                (None, 128)          65664       ['universal_sentence_encoder[2][0\n",
            "                                                                 ]']                              \n",
            "                                                                                                  \n",
            " bi-lstm_layer (Bidirectional)  (None, 48)           9600        ['char_embed[2][0]']             \n",
            "                                                                                                  \n",
            " char_token_hybrid_embedding (C  (None, 176)         0           ['dense_7[0][0]',                \n",
            " oncatenate)                                                      'bi-lstm_layer[0][0]']          \n",
            "                                                                                                  \n",
            " line_number_inputs (InputLayer  [(None, 15)]        0           []                               \n",
            " )                                                                                                \n",
            "                                                                                                  \n",
            " total_lines_inputs (InputLayer  [(None, 20)]        0           []                               \n",
            " )                                                                                                \n",
            "                                                                                                  \n",
            " dense_10 (Dense)               (None, 256)          45312       ['char_token_hybrid_embedding[0][\n",
            "                                                                 0]']                             \n",
            "                                                                                                  \n",
            " dense_8 (Dense)                (None, 32)           512         ['line_number_inputs[0][0]']     \n",
            "                                                                                                  \n",
            " dense_9 (Dense)                (None, 32)           672         ['total_lines_inputs[0][0]']     \n",
            "                                                                                                  \n",
            " dropout_2 (Dropout)            (None, 256)          0           ['dense_10[0][0]']               \n",
            "                                                                                                  \n",
            " char-token_positional_embeddin  (None, 320)         0           ['dense_8[0][0]',                \n",
            " g (Concatenate)                                                  'dense_9[0][0]',                \n",
            "                                                                  'dropout_2[0][0]']              \n",
            "                                                                                                  \n",
            " output_layer (Dense)           (None, 5)            1605        ['char-token_positional_embedding\n",
            "                                                                 [0][0]']                         \n",
            "                                                                                                  \n",
            "==================================================================================================\n",
            "Total params: 256,921,889\n",
            "Trainable params: 124,065\n",
            "Non-trainable params: 256,797,824\n",
            "__________________________________________________________________________________________________\n"
          ]
        }
      ]
    },
    {
      "cell_type": "code",
      "source": [
        "# Plot the model\n",
        "plot_model(model_5, show_shapes=True)"
      ],
      "metadata": {
        "id": "QsAyBTDTHVkM",
        "colab": {
          "base_uri": "https://localhost:8080/",
          "height": 904
        },
        "outputId": "31404c9e-02ac-4526-c862-ebe00ea2a1d6"
      },
      "execution_count": 97,
      "outputs": [
        {
          "output_type": "execute_result",
          "data": {
            "image/png": "[encoded data removed]",
            "text/plain": [
              "<IPython.core.display.Image object>"
            ]
          },
          "metadata": {},
          "execution_count": 97
        }
      ]
    },
    {
      "cell_type": "markdown",
      "source": [
        "What is label smoothing?\n",
        "\n",
        "For example if our model gets too confident on a single class\n",
        "(e.g. its prediction probability is really high), it may get stuck on that class and not consider other classes...\n",
        "\n",
        "Really confident = `[0.0, 0.0, 1.0, 0.0, 0.0]`\n",
        "\n",
        "What label smoothing does is it assigns some of the value from the highest pred prob to other classes, in turn, hopefully imrpoving generalization: `[0.01, 0.01, 0.96, 0.01, 0.01]`"
      ],
      "metadata": {
        "id": "prIhCxHBIFQb"
      }
    },
    {
      "cell_type": "code",
      "source": [
        "# Compile token, char, and positional embedding model\n",
        "model_5.compile(loss=tf.keras.losses.CategoricalCrossentropy(label_smoothing=0.2), # Helps to prevent overfitting\n",
        "                optimizer=tf.keras.optimizers.Adam(),\n",
        "                metrics=[\"accuracy\"])"
      ],
      "metadata": {
        "id": "ql65z_a9Hi6c"
      },
      "execution_count": 98,
      "outputs": []
    },
    {
      "cell_type": "markdown",
      "source": [
        "### Create tribrid embedding datasets using tf.data"
      ],
      "metadata": {
        "id": "ZJ0M5DAcI15F"
      }
    },
    {
      "cell_type": "code",
      "source": [
        "# Create training and validation dataset (with all four kinds of input data)\n",
        "train_char_token_pos_data = tf.data.Dataset.from_tensor_slices((train_sentences,\n",
        "                                                                train_chars, \n",
        "                                                                train_line_numbers_one_hot,\n",
        "                                                                train_total_lines_one_hot))\n",
        "train_char_token_pos_labels = tf.data.Dataset.from_tensor_slices(train_labels_one_hot)\n",
        "train_char_token_pos_dataset = tf.data.Dataset.zip((train_char_token_pos_data, train_char_token_pos_labels))\n",
        "train_char_token_pos_dataset = train_char_token_pos_dataset.batch(32).prefetch(tf.data.AUTOTUNE)\n",
        "\n",
        "val_char_token_pos_data = tf.data.Dataset.from_tensor_slices((val_sentences,\n",
        "                                                              val_chars,\n",
        "                                                              val_line_numbers_one_hot,\n",
        "                                                              val_total_lines_one_hot))\n",
        "val_char_token_pos_labels = tf.data.Dataset.from_tensor_slices(val_labels_one_hot)\n",
        "val_char_token_pos_dataset = tf.data.Dataset.zip((val_char_token_pos_data, val_char_token_pos_labels))\n",
        "val_char_token_pos_dataset = val_char_token_pos_dataset.batch(32).prefetch(tf.data.AUTOTUNE) "
      ],
      "metadata": {
        "id": "DJqnRuQ-I8i6"
      },
      "execution_count": 99,
      "outputs": []
    },
    {
      "cell_type": "code",
      "source": [
        "# Check input shapes\n",
        "train_char_token_pos_dataset, val_char_token_pos_dataset"
      ],
      "metadata": {
        "colab": {
          "base_uri": "https://localhost:8080/"
        },
        "id": "SN50vfwXyJ93",
        "outputId": "9914d348-5850-4cc7-df85-5494da1731c7"
      },
      "execution_count": 100,
      "outputs": [
        {
          "output_type": "execute_result",
          "data": {
            "text/plain": [
              "(<PrefetchDataset element_spec=((TensorSpec(shape=(None,), dtype=tf.string, name=None), TensorSpec(shape=(None,), dtype=tf.string, name=None), TensorSpec(shape=(None, 15), dtype=tf.float32, name=None), TensorSpec(shape=(None, 20), dtype=tf.float32, name=None)), TensorSpec(shape=(None, 5), dtype=tf.float64, name=None))>,\n",
              " <PrefetchDataset element_spec=((TensorSpec(shape=(None,), dtype=tf.string, name=None), TensorSpec(shape=(None,), dtype=tf.string, name=None), TensorSpec(shape=(None, 15), dtype=tf.float32, name=None), TensorSpec(shape=(None, 20), dtype=tf.float32, name=None)), TensorSpec(shape=(None, 5), dtype=tf.float64, name=None))>)"
            ]
          },
          "metadata": {},
          "execution_count": 100
        }
      ]
    },
    {
      "cell_type": "markdown",
      "source": [
        "### Fitting, evaluating and making prediction with our tribrid model"
      ],
      "metadata": {
        "id": "LqFStVElybxr"
      }
    },
    {
      "cell_type": "code",
      "source": [
        "history_model_5 = model_5.fit(train_char_token_pos_dataset,\n",
        "                              steps_per_epoch=int(0.1 * len(train_char_token_pos_dataset)),\n",
        "                              epochs=3,\n",
        "                              validation_data=val_char_token_pos_dataset,\n",
        "                              validation_steps=int(0.1 * len(val_char_token_pos_dataset)))"
      ],
      "metadata": {
        "colab": {
          "base_uri": "https://localhost:8080/"
        },
        "id": "QuTLRcq2zFNs",
        "outputId": "308fb251-286a-4217-a0d9-401c4c301bed"
      },
      "execution_count": 101,
      "outputs": [
        {
          "output_type": "stream",
          "name": "stdout",
          "text": [
            "Epoch 1/3\n",
            "562/562 [==============================] - 23s 35ms/step - loss: 1.0979 - accuracy: 0.7210 - val_loss: 0.9870 - val_accuracy: 0.8052\n",
            "Epoch 2/3\n",
            "562/562 [==============================] - 18s 33ms/step - loss: 0.9710 - accuracy: 0.8126 - val_loss: 0.9522 - val_accuracy: 0.8265\n",
            "Epoch 3/3\n",
            "562/562 [==============================] - 19s 34ms/step - loss: 0.9519 - accuracy: 0.8230 - val_loss: 0.9409 - val_accuracy: 0.8278\n"
          ]
        }
      ]
    },
    {
      "cell_type": "code",
      "source": [
        "# Make predictions wwith the char token pos model\n",
        "model_5_preds = tf.argmax(model_5.predict(val_char_token_pos_dataset, verbose = 1), axis = 1)\n",
        "model_5_preds"
      ],
      "metadata": {
        "colab": {
          "base_uri": "https://localhost:8080/"
        },
        "id": "4ulYgKAf1TKU",
        "outputId": "baffcbb4-e5fa-4413-86e5-422eccf0e4ee"
      },
      "execution_count": 102,
      "outputs": [
        {
          "output_type": "stream",
          "name": "stdout",
          "text": [
            "945/945 [==============================] - 24s 24ms/step\n"
          ]
        },
        {
          "output_type": "execute_result",
          "data": {
            "text/plain": [
              "<tf.Tensor: shape=(30212,), dtype=int64, numpy=array([0, 0, 3, ..., 4, 4, 1])>"
            ]
          },
          "metadata": {},
          "execution_count": 102
        }
      ]
    },
    {
      "cell_type": "code",
      "source": [
        "# make results\n",
        "model_5_results = calculate_results(val_labels_encoded,\n",
        "                                    model_5_preds)\n",
        "model_5_results"
      ],
      "metadata": {
        "colab": {
          "base_uri": "https://localhost:8080/"
        },
        "id": "gs7PYW-G41yQ",
        "outputId": "7881e5a4-1246-401d-9619-6dfe2eb7cfab"
      },
      "execution_count": 103,
      "outputs": [
        {
          "output_type": "execute_result",
          "data": {
            "text/plain": [
              "{'accuracy': 83.07957103137826,\n",
              " 'precision': 0.830070473644112,\n",
              " 'recall': 0.8307957103137826,\n",
              " 'f1': 0.830031277604379}"
            ]
          },
          "metadata": {},
          "execution_count": 103
        }
      ]
    },
    {
      "cell_type": "markdown",
      "source": [
        "## Compare model results"
      ],
      "metadata": {
        "id": "Yu8aDpch4-gv"
      }
    },
    {
      "cell_type": "code",
      "source": [
        "# COmbine model results into a dataframe \n",
        "all_model_results = pd.DataFrame({\"baseline\": baseline_results,\n",
        "                                  \"model_1_custom_token\": model_1_results,\n",
        "                                  \"model_2_pretrained_token_embedding\": model_2_results,\n",
        "                                  \"model_3_custom_char_embedding\": model_3_results,\n",
        "                                  \"model_4_hybrid_char_token_embedding\": model_4_results,\n",
        "                                  \"model_5_pos_char_token_embedding\": model_5_results})\n",
        "all_model_results = all_model_results.transpose()\n",
        "all_model_results"
      ],
      "metadata": {
        "colab": {
          "base_uri": "https://localhost:8080/",
          "height": 237
        },
        "id": "OK6scbaO3Z2p",
        "outputId": "4f6d59cb-83a1-4fb0-b303-931573ba069e"
      },
      "execution_count": 104,
      "outputs": [
        {
          "output_type": "execute_result",
          "data": {
            "text/plain": [
              "                                      accuracy  precision    recall        f1\n",
              "baseline                             72.183238   0.718647  0.721832  0.698925\n",
              "model_1_custom_token                 78.720376   0.783726  0.787204  0.784414\n",
              "model_2_pretrained_token_embedding   71.359063   0.713825  0.713591  0.710582\n",
              "model_3_custom_char_embedding        65.771879   0.649878  0.657719  0.647231\n",
              "model_4_hybrid_char_token_embedding  73.179531   0.732098  0.731795  0.728834\n",
              "model_5_pos_char_token_embedding     83.079571   0.830070  0.830796  0.830031"
            ],
            "text/html": [
              "\n",
              "  <div id=\"df-b9562302-799c-423e-aa10-b1cf2ce869be\">\n",
              "    <div class=\"colab-df-container\">\n",
              "      <div>\n",
              "<style scoped>\n",
              "    .dataframe tbody tr th:only-of-type {\n",
              "        vertical-align: middle;\n",
              "    }\n",
              "\n",
              "    .dataframe tbody tr th {\n",
              "        vertical-align: top;\n",
              "    }\n",
              "\n",
              "    .dataframe thead th {\n",
              "        text-align: right;\n",
              "    }\n",
              "</style>\n",
              "<table border=\"1\" class=\"dataframe\">\n",
              "  <thead>\n",
              "    <tr style=\"text-align: right;\">\n",
              "      <th></th>\n",
              "      <th>accuracy</th>\n",
              "      <th>precision</th>\n",
              "      <th>recall</th>\n",
              "      <th>f1</th>\n",
              "    </tr>\n",
              "  </thead>\n",
              "  <tbody>\n",
              "    <tr>\n",
              "      <th>baseline</th>\n",
              "      <td>72.183238</td>\n",
              "      <td>0.718647</td>\n",
              "      <td>0.721832</td>\n",
              "      <td>0.698925</td>\n",
              "    </tr>\n",
              "    <tr>\n",
              "      <th>model_1_custom_token</th>\n",
              "      <td>78.720376</td>\n",
              "      <td>0.783726</td>\n",
              "      <td>0.787204</td>\n",
              "      <td>0.784414</td>\n",
              "    </tr>\n",
              "    <tr>\n",
              "      <th>model_2_pretrained_token_embedding</th>\n",
              "      <td>71.359063</td>\n",
              "      <td>0.713825</td>\n",
              "      <td>0.713591</td>\n",
              "      <td>0.710582</td>\n",
              "    </tr>\n",
              "    <tr>\n",
              "      <th>model_3_custom_char_embedding</th>\n",
              "      <td>65.771879</td>\n",
              "      <td>0.649878</td>\n",
              "      <td>0.657719</td>\n",
              "      <td>0.647231</td>\n",
              "    </tr>\n",
              "    <tr>\n",
              "      <th>model_4_hybrid_char_token_embedding</th>\n",
              "      <td>73.179531</td>\n",
              "      <td>0.732098</td>\n",
              "      <td>0.731795</td>\n",
              "      <td>0.728834</td>\n",
              "    </tr>\n",
              "    <tr>\n",
              "      <th>model_5_pos_char_token_embedding</th>\n",
              "      <td>83.079571</td>\n",
              "      <td>0.830070</td>\n",
              "      <td>0.830796</td>\n",
              "      <td>0.830031</td>\n",
              "    </tr>\n",
              "  </tbody>\n",
              "</table>\n",
              "</div>\n",
              "      <button class=\"colab-df-convert\" onclick=\"convertToInteractive('df-b9562302-799c-423e-aa10-b1cf2ce869be')\"\n",
              "              title=\"Convert this dataframe to an interactive table.\"\n",
              "              style=\"display:none;\">\n",
              "        \n",
              "  <svg xmlns=\"http://www.w3.org/2000/svg\" height=\"24px\"viewBox=\"0 0 24 24\"\n",
              "       width=\"24px\">\n",
              "    <path d=\"M0 0h24v24H0V0z\" fill=\"none\"/>\n",
              "    <path d=\"M18.56 5.44l.94 2.06.94-2.06 2.06-.94-2.06-.94-.94-2.06-.94 2.06-2.06.94zm-11 1L8.5 8.5l.94-2.06 2.06-.94-2.06-.94L8.5 2.5l-.94 2.06-2.06.94zm10 10l.94 2.06.94-2.06 2.06-.94-2.06-.94-.94-2.06-.94 2.06-2.06.94z\"/><path d=\"M17.41 7.96l-1.37-1.37c-.4-.4-.92-.59-1.43-.59-.52 0-1.04.2-1.43.59L10.3 9.45l-7.72 7.72c-.78.78-.78 2.05 0 2.83L4 21.41c.39.39.9.59 1.41.59.51 0 1.02-.2 1.41-.59l7.78-7.78 2.81-2.81c.8-.78.8-2.07 0-2.86zM5.41 20L4 18.59l7.72-7.72 1.47 1.35L5.41 20z\"/>\n",
              "  </svg>\n",
              "      </button>\n",
              "      \n",
              "  <style>\n",
              "    .colab-df-container {\n",
              "      display:flex;\n",
              "      flex-wrap:wrap;\n",
              "      gap: 12px;\n",
              "    }\n",
              "\n",
              "    .colab-df-convert {\n",
              "      background-color: #E8F0FE;\n",
              "      border: none;\n",
              "      border-radius: 50%;\n",
              "      cursor: pointer;\n",
              "      display: none;\n",
              "      fill: #1967D2;\n",
              "      height: 32px;\n",
              "      padding: 0 0 0 0;\n",
              "      width: 32px;\n",
              "    }\n",
              "\n",
              "    .colab-df-convert:hover {\n",
              "      background-color: #E2EBFA;\n",
              "      box-shadow: 0px 1px 2px rgba(60, 64, 67, 0.3), 0px 1px 3px 1px rgba(60, 64, 67, 0.15);\n",
              "      fill: #174EA6;\n",
              "    }\n",
              "\n",
              "    [theme=dark] .colab-df-convert {\n",
              "      background-color: #3B4455;\n",
              "      fill: #D2E3FC;\n",
              "    }\n",
              "\n",
              "    [theme=dark] .colab-df-convert:hover {\n",
              "      background-color: #434B5C;\n",
              "      box-shadow: 0px 1px 3px 1px rgba(0, 0, 0, 0.15);\n",
              "      filter: drop-shadow(0px 1px 2px rgba(0, 0, 0, 0.3));\n",
              "      fill: #FFFFFF;\n",
              "    }\n",
              "  </style>\n",
              "\n",
              "      <script>\n",
              "        const buttonEl =\n",
              "          document.querySelector('#df-b9562302-799c-423e-aa10-b1cf2ce869be button.colab-df-convert');\n",
              "        buttonEl.style.display =\n",
              "          google.colab.kernel.accessAllowed ? 'block' : 'none';\n",
              "\n",
              "        async function convertToInteractive(key) {\n",
              "          const element = document.querySelector('#df-b9562302-799c-423e-aa10-b1cf2ce869be');\n",
              "          const dataTable =\n",
              "            await google.colab.kernel.invokeFunction('convertToInteractive',\n",
              "                                                     [key], {});\n",
              "          if (!dataTable) return;\n",
              "\n",
              "          const docLinkHtml = 'Like what you see? Visit the ' +\n",
              "            '<a target=\"_blank\" href=https://colab.research.google.com/notebooks/data_table.ipynb>data table notebook</a>'\n",
              "            + ' to learn more about interactive tables.';\n",
              "          element.innerHTML = '';\n",
              "          dataTable['output_type'] = 'display_data';\n",
              "          await google.colab.output.renderOutput(dataTable, element);\n",
              "          const docLink = document.createElement('div');\n",
              "          docLink.innerHTML = docLinkHtml;\n",
              "          element.appendChild(docLink);\n",
              "        }\n",
              "      </script>\n",
              "    </div>\n",
              "  </div>\n",
              "  "
            ]
          },
          "metadata": {},
          "execution_count": 104
        }
      ]
    },
    {
      "cell_type": "code",
      "source": [
        "# Reduce the accuracy to the same scale as other metrics\n",
        "all_model_results[\"accuracy\"] = all_model_results[\"accuracy\"]/100"
      ],
      "metadata": {
        "id": "d1V3_rku35rJ"
      },
      "execution_count": 105,
      "outputs": []
    },
    {
      "cell_type": "code",
      "source": [
        "all_model_results.plot(kind=\"bar\", figsize=(10, 7)).legend(bbox_to_anchor=(1.0, 1.0));"
      ],
      "metadata": {
        "colab": {
          "base_uri": "https://localhost:8080/",
          "height": 619
        },
        "id": "nrmbZyJl4TgR",
        "outputId": "f6f8e375-b2bd-454a-b933-e9d2a723091a"
      },
      "execution_count": 106,
      "outputs": [
        {
          "output_type": "display_data",
          "data": {
            "text/plain": [
              "<Figure size 720x504 with 1 Axes>"
            ],
            "image/png": "[encoded data removed]"
          },
          "metadata": {
            "needs_background": "light"
          }
        }
      ]
    },
    {
      "cell_type": "code",
      "source": [
        "# Sort models results by f1-score\n",
        "all_model_results.sort_values(\"f1\", ascending=True)[\"f1\"].plot(kind=\"bar\", figsize=(10, 7));"
      ],
      "metadata": {
        "colab": {
          "base_uri": "https://localhost:8080/",
          "height": 619
        },
        "id": "lbacj6mO4bZ2",
        "outputId": "dbf6d318-4cbb-4715-f277-485e2594d8fb"
      },
      "execution_count": 107,
      "outputs": [
        {
          "output_type": "display_data",
          "data": {
            "text/plain": [
              "<Figure size 720x504 with 1 Axes>"
            ],
            "image/png": "[encoded data removed]"
          },
          "metadata": {
            "needs_background": "light"
          }
        }
      ]
    },
    {
      "cell_type": "markdown",
      "source": [
        "## Save and load model"
      ],
      "metadata": {
        "id": "HY9qyGLr49Gq"
      }
    },
    {
      "cell_type": "code",
      "source": [
        "# Save the best performing model to SavedModel format\n",
        "model_5.save(\"skimlit_tribrid_model\")"
      ],
      "metadata": {
        "colab": {
          "base_uri": "https://localhost:8080/"
        },
        "id": "T9lY4nQQ5Uqo",
        "outputId": "1749b536-4fd7-457e-9d1f-b333352dadeb"
      },
      "execution_count": 108,
      "outputs": [
        {
          "output_type": "stream",
          "name": "stderr",
          "text": [
            "WARNING:absl:Found untraced functions such as lstm_cell_4_layer_call_fn, lstm_cell_4_layer_call_and_return_conditional_losses, lstm_cell_5_layer_call_fn, lstm_cell_5_layer_call_and_return_conditional_losses while saving (showing 4 of 4). These functions will not be directly callable after loading.\n"
          ]
        }
      ]
    },
    {
      "cell_type": "code",
      "source": [
        "# Load in best performing model\n",
        "loaded_model = tf.keras.models.load_model(\"/content/skimlit_tribrid_model\")"
      ],
      "metadata": {
        "id": "1dbv4o4R5qEa"
      },
      "execution_count": 109,
      "outputs": []
    },
    {
      "cell_type": "code",
      "source": [
        "# Make prediction\n",
        "loaded_model_preds = tf.argmax(loaded_model.predict(val_char_token_pos_dataset), axis=1)\n",
        "loaded_model_preds"
      ],
      "metadata": {
        "id": "53rwCh0D6FE_",
        "colab": {
          "base_uri": "https://localhost:8080/"
        },
        "outputId": "1bf7bf1a-f744-49a6-cc52-22de75a57e67"
      },
      "execution_count": 110,
      "outputs": [
        {
          "output_type": "stream",
          "name": "stdout",
          "text": [
            "945/945 [==============================] - 20s 20ms/step\n"
          ]
        },
        {
          "output_type": "execute_result",
          "data": {
            "text/plain": [
              "<tf.Tensor: shape=(30212,), dtype=int64, numpy=array([0, 0, 3, ..., 4, 4, 1])>"
            ]
          },
          "metadata": {},
          "execution_count": 110
        }
      ]
    },
    {
      "cell_type": "code",
      "source": [
        "loaded_model_results = calculate_results(val_labels_encoded,\n",
        "                                         loaded_model_preds)\n",
        "loaded_model_results"
      ],
      "metadata": {
        "colab": {
          "base_uri": "https://localhost:8080/"
        },
        "id": "WBCABfAoAjxb",
        "outputId": "4a1be2c9-076d-40d0-fc5d-6653dc27d355"
      },
      "execution_count": 111,
      "outputs": [
        {
          "output_type": "execute_result",
          "data": {
            "text/plain": [
              "{'accuracy': 83.07957103137826,\n",
              " 'precision': 0.830070473644112,\n",
              " 'recall': 0.8307957103137826,\n",
              " 'f1': 0.830031277604379}"
            ]
          },
          "metadata": {},
          "execution_count": 111
        }
      ]
    },
    {
      "cell_type": "code",
      "source": [
        "assert loaded_model_results == model_5_results"
      ],
      "metadata": {
        "id": "iZGH3xKzAuJq"
      },
      "execution_count": 112,
      "outputs": []
    },
    {
      "cell_type": "code",
      "source": [
        "model_5_results"
      ],
      "metadata": {
        "id": "wjunTURwBQNR",
        "outputId": "4d2018b1-c24e-4bec-c2ec-d7f4b8673936",
        "colab": {
          "base_uri": "https://localhost:8080/"
        }
      },
      "execution_count": 113,
      "outputs": [
        {
          "output_type": "execute_result",
          "data": {
            "text/plain": [
              "{'accuracy': 83.07957103137826,\n",
              " 'precision': 0.830070473644112,\n",
              " 'recall': 0.8307957103137826,\n",
              " 'f1': 0.830031277604379}"
            ]
          },
          "metadata": {},
          "execution_count": 113
        }
      ]
    }
  ]
}